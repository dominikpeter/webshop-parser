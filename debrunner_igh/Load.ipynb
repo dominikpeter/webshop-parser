{
 "cells": [
  {
   "cell_type": "code",
   "execution_count": 1,
   "metadata": {},
   "outputs": [],
   "source": [
    "import Parser\n",
    "import pandas as pd\n",
    "import numpy as np\n",
    "\n",
    "from sklearn.feature_extraction.text import CountVectorizer, TfidfVectorizer\n",
    "from sklearn.metrics.pairwise import pairwise_distances\n",
    "from nltk.tokenize import TreebankWordTokenizer\n",
    "\n",
    "from functools import partial\n",
    "import math\n",
    "from tqdm import tqdm\n",
    "import turbodbc"
   ]
  },
  {
   "cell_type": "code",
   "execution_count": 2,
   "metadata": {},
   "outputs": [],
   "source": [
    "def create_connection_string_turbo(server, database):\n",
    "    options = turbodbc.make_options(prefer_unicode=True)\n",
    "    constr = 'Driver={ODBC Driver 13 for SQL Server};Server=' + \\\n",
    "        server + ';Database=' + database + ';Trusted_Connection=yes;'\n",
    "    con = turbodbc.connect(connection_string=constr, turbodbc_options=options)\n",
    "    return con"
   ]
  },
  {
   "cell_type": "code",
   "execution_count": 3,
   "metadata": {},
   "outputs": [],
   "source": [
    "def batch(n, iterable):\n",
    "    from scipy import sparse\n",
    "    if sparse.issparse(iterable) or isinstance(\n",
    "            iterable,\n",
    "            (np.ndarray, np.generic)):\n",
    "        row_l = iterable.shape[0]\n",
    "        for ndx in range(0, row_l, n):\n",
    "            yield iterable[ndx:min(ndx + n, row_l), ]"
   ]
  },
  {
   "cell_type": "code",
   "execution_count": 4,
   "metadata": {},
   "outputs": [],
   "source": [
    "tree = Parser.get_tree(\"DebrunnerAciferBW-1515-2018-03-de.xml\")\n",
    "parser = Parser.XML_Parser(tree)\n",
    "parser.parse_xml()\n",
    "parser.dict_to_df(\"id\")\n",
    "parser.DF.to_clipboard(index=False)"
   ]
  },
  {
   "cell_type": "code",
   "execution_count": 5,
   "metadata": {},
   "outputs": [],
   "source": [
    "df = parser.DF[['ArtikelId','Art_Txt_Kurz', 'Art_Txt_Lang','Preis']].copy()"
   ]
  },
  {
   "cell_type": "code",
   "execution_count": 6,
   "metadata": {},
   "outputs": [],
   "source": [
    "query = \"\"\"\n",
    "set nocount on;\n",
    "\n",
    "SELECT  [Artikelnummer]\n",
    "      ,[Artikel Beschreibung]\n",
    "      ,[Lieferantenname]\n",
    "      ,[Bruttoverkauf]\n",
    "      ,[Standardkosten]\n",
    "      ,[Lieferantennummer]\n",
    "      ,EAN = Barcode\n",
    "into #temp\n",
    "FROM [AnalystCM].[dbo].[LOOKUP_ArtikelstammCRHT]\n",
    "where [Einmalartikel (J/N)] = 0 and [Artikel Status] = '02'\n",
    "and Artikelgruppe not between 5000 and 5599\n",
    "\n",
    "select idItemOrigin\n",
    ",AvgPrice = Avg(Sales / case when Quantity = 0 then NULL else Quantity end)\n",
    ",WAvgPrice = sum(Sales) / case when sum(Quantity) = 0 then NULL else sum(Quantity) end\n",
    ",SalesLTM = sum(Sales)\n",
    ",MarginLTM = sum(Margin)\n",
    "into #avgprice\n",
    "from crhbusadwh01.infopool.fact.sales\n",
    "where date > dateadd(month,-12, getdate())\n",
    "group by idItemOrigin\n",
    "\n",
    "select [Artikelnummer]\n",
    "      ,[Artikel Beschreibung]\n",
    "      ,[Lieferantenname]\n",
    "      ,[Bruttoverkauf]\n",
    "      ,[Standardkosten]\n",
    "      ,[ArtikelnummerLieferant] = [Lieferantennummer]\n",
    "      ,EAN\n",
    "      ,Durchschnittspreis = AvgPrice\n",
    "      ,GDurchschnittspreis = WAvgPrice\n",
    "      ,SalesLTM\n",
    "      ,MarginLTM\n",
    "from #temp t\n",
    "    left join #avgprice a on t.Artikelnummer = a.idItemOrigin collate Latin1_General_CI_AS\n",
    "\n",
    "drop table #temp\n",
    "drop table #avgprice\n",
    "\"\"\""
   ]
  },
  {
   "cell_type": "code",
   "execution_count": 7,
   "metadata": {},
   "outputs": [],
   "source": [
    "con = create_connection_string_turbo(\"CRHBUSADWH51\", \"Operations\")\n",
    "df_server = pd.read_sql(query, con)\n",
    "df_server['Bruttoverkauf'] = df_server['Bruttoverkauf'].astype(\"float\")\n",
    "df_server['Standardkosten'] = df_server['Standardkosten'].astype(\"float\")\n",
    "df_server['EAN'] = df_server['EAN'].astype(\"str\")"
   ]
  },
  {
   "cell_type": "code",
   "execution_count": 8,
   "metadata": {},
   "outputs": [],
   "source": [
    "df['Art_Txt'] = df['Art_Txt_Lang'] + \" \" +df['Art_Txt_Kurz']"
   ]
  },
  {
   "cell_type": "code",
   "execution_count": 9,
   "metadata": {},
   "outputs": [
    {
     "name": "stdout",
     "output_type": "stream",
     "text": [
      "(51621, 157822)\n",
      "(72931, 157822)\n"
     ]
    }
   ],
   "source": [
    "vec = TfidfVectorizer(tokenizer=TreebankWordTokenizer().tokenize)\n",
    "vec.fit(pd.concat([df['Art_Txt'], df_server['Artikel Beschreibung']]))\n",
    "\n",
    "X = vec.transform(df['Art_Txt_Lang'])\n",
    "Y = vec.transform(df_server['Artikel Beschreibung'])\n",
    "\n",
    "print(X.shape)\n",
    "print(Y.shape)"
   ]
  },
  {
   "cell_type": "code",
   "execution_count": 10,
   "metadata": {},
   "outputs": [
    {
     "name": "stdout",
     "output_type": "stream",
     "text": [
      "Number of Batches = 52\n"
     ]
    },
    {
     "name": "stderr",
     "output_type": "stream",
     "text": [
      "52it [01:26,  1.67s/it]\n"
     ]
    }
   ],
   "source": [
    "# too memory heavy, no chance to do it without batching (32 GB Ram VM)\n",
    "chunksize = 1000\n",
    "\n",
    "batcher = partial(batch, chunksize)\n",
    "idx = np.zeros(shape=(X.shape[0], 1), dtype=np.int)\n",
    "dist = np.zeros(shape=(X.shape[0], 1), dtype=np.float)\n",
    "\n",
    "print(\"Number of Batches = {}\".format(math.ceil(X.shape[0] / chunksize)))\n",
    "\n",
    "for i,j,v in tqdm(zip(batcher(idx),batcher(dist), batcher(X))):\n",
    "    d = pairwise_distances(v, Y, metric='cosine')\n",
    "    i[:,0] = d.argmin(axis=1)\n",
    "    j[:,0] = d.min(axis=1)"
   ]
  },
  {
   "cell_type": "code",
   "execution_count": 11,
   "metadata": {},
   "outputs": [],
   "source": [
    "df['idx_y'] = idx\n",
    "df['dist_y'] = dist\n",
    "mmap = dict(enumerate(df_server['Artikelnummer']))\n",
    "df['Artikelnummer_CRHT'] = df['idx_y'].map(mmap)"
   ]
  },
  {
   "cell_type": "code",
   "execution_count": 12,
   "metadata": {},
   "outputs": [
    {
     "data": {
      "text/html": [
       "<div>\n",
       "<style scoped>\n",
       "    .dataframe tbody tr th:only-of-type {\n",
       "        vertical-align: middle;\n",
       "    }\n",
       "\n",
       "    .dataframe tbody tr th {\n",
       "        vertical-align: top;\n",
       "    }\n",
       "\n",
       "    .dataframe thead th {\n",
       "        text-align: right;\n",
       "    }\n",
       "</style>\n",
       "<table border=\"1\" class=\"dataframe\">\n",
       "  <thead>\n",
       "    <tr style=\"text-align: right;\">\n",
       "      <th></th>\n",
       "      <th></th>\n",
       "      <th></th>\n",
       "      <th>ArtikelId</th>\n",
       "      <th>Art_Txt_Kurz</th>\n",
       "      <th>Art_Txt_Lang</th>\n",
       "      <th>Preis</th>\n",
       "      <th>Art_Txt</th>\n",
       "      <th>idx_y</th>\n",
       "      <th>dist_y</th>\n",
       "      <th>Artikelnummer_CRHT</th>\n",
       "    </tr>\n",
       "  </thead>\n",
       "  <tbody>\n",
       "    <tr>\n",
       "      <th>10027422</th>\n",
       "      <th></th>\n",
       "      <th></th>\n",
       "      <td>10027422</td>\n",
       "      <td>Schlauch-Raccords mit Innengewinde und loser M...</td>\n",
       "      <td>GEKA Schlauch-Raccords, mit Innengewinde, mit ...</td>\n",
       "      <td>6.30</td>\n",
       "      <td>GEKA Schlauch-Raccords, mit Innengewinde, mit ...</td>\n",
       "      <td>44285</td>\n",
       "      <td>0.774604</td>\n",
       "      <td>3812615</td>\n",
       "    </tr>\n",
       "    <tr>\n",
       "      <th>10027424</th>\n",
       "      <th></th>\n",
       "      <th></th>\n",
       "      <td>10027424</td>\n",
       "      <td>Schlauch-Raccords mit Innengewinde und loser M...</td>\n",
       "      <td>GEKA Schlauch-Raccords, mit Innengewinde, mit ...</td>\n",
       "      <td>6.70</td>\n",
       "      <td>GEKA Schlauch-Raccords, mit Innengewinde, mit ...</td>\n",
       "      <td>68905</td>\n",
       "      <td>0.753880</td>\n",
       "      <td>2038822</td>\n",
       "    </tr>\n",
       "    <tr>\n",
       "      <th>10027425</th>\n",
       "      <th></th>\n",
       "      <th></th>\n",
       "      <td>10027425</td>\n",
       "      <td>Schlauch-Raccords mit Innengewinde und loser M...</td>\n",
       "      <td>GEKA Schlauch-Raccords, mit Innengewinde, mit ...</td>\n",
       "      <td>6.90</td>\n",
       "      <td>GEKA Schlauch-Raccords, mit Innengewinde, mit ...</td>\n",
       "      <td>68905</td>\n",
       "      <td>0.754721</td>\n",
       "      <td>2038822</td>\n",
       "    </tr>\n",
       "    <tr>\n",
       "      <th>10027426</th>\n",
       "      <th></th>\n",
       "      <th></th>\n",
       "      <td>10027426</td>\n",
       "      <td>Schlauch-Raccords mit Innengewinde und loser M...</td>\n",
       "      <td>GEKA Schlauch-Raccords, mit Innengewinde, mit ...</td>\n",
       "      <td>6.95</td>\n",
       "      <td>GEKA Schlauch-Raccords, mit Innengewinde, mit ...</td>\n",
       "      <td>68905</td>\n",
       "      <td>0.753339</td>\n",
       "      <td>2038822</td>\n",
       "    </tr>\n",
       "    <tr>\n",
       "      <th>10027427</th>\n",
       "      <th></th>\n",
       "      <th></th>\n",
       "      <td>10027427</td>\n",
       "      <td>Schlauch-Raccords mit Innengewinde und loser M...</td>\n",
       "      <td>GEKA Schlauch-Raccords, mit Innengewinde, mit ...</td>\n",
       "      <td>7.75</td>\n",
       "      <td>GEKA Schlauch-Raccords, mit Innengewinde, mit ...</td>\n",
       "      <td>57893</td>\n",
       "      <td>0.791357</td>\n",
       "      <td>6193350</td>\n",
       "    </tr>\n",
       "  </tbody>\n",
       "</table>\n",
       "</div>"
      ],
      "text/plain": [
       "           ArtikelId                                       Art_Txt_Kurz  \\\n",
       "10027422    10027422  Schlauch-Raccords mit Innengewinde und loser M...   \n",
       "10027424    10027424  Schlauch-Raccords mit Innengewinde und loser M...   \n",
       "10027425    10027425  Schlauch-Raccords mit Innengewinde und loser M...   \n",
       "10027426    10027426  Schlauch-Raccords mit Innengewinde und loser M...   \n",
       "10027427    10027427  Schlauch-Raccords mit Innengewinde und loser M...   \n",
       "\n",
       "                                                 Art_Txt_Lang Preis  \\\n",
       "10027422    GEKA Schlauch-Raccords, mit Innengewinde, mit ...  6.30   \n",
       "10027424    GEKA Schlauch-Raccords, mit Innengewinde, mit ...  6.70   \n",
       "10027425    GEKA Schlauch-Raccords, mit Innengewinde, mit ...  6.90   \n",
       "10027426    GEKA Schlauch-Raccords, mit Innengewinde, mit ...  6.95   \n",
       "10027427    GEKA Schlauch-Raccords, mit Innengewinde, mit ...  7.75   \n",
       "\n",
       "                                                      Art_Txt  idx_y  \\\n",
       "10027422    GEKA Schlauch-Raccords, mit Innengewinde, mit ...  44285   \n",
       "10027424    GEKA Schlauch-Raccords, mit Innengewinde, mit ...  68905   \n",
       "10027425    GEKA Schlauch-Raccords, mit Innengewinde, mit ...  68905   \n",
       "10027426    GEKA Schlauch-Raccords, mit Innengewinde, mit ...  68905   \n",
       "10027427    GEKA Schlauch-Raccords, mit Innengewinde, mit ...  57893   \n",
       "\n",
       "              dist_y Artikelnummer_CRHT  \n",
       "10027422    0.774604            3812615  \n",
       "10027424    0.753880            2038822  \n",
       "10027425    0.754721            2038822  \n",
       "10027426    0.753339            2038822  \n",
       "10027427    0.791357            6193350  "
      ]
     },
     "execution_count": 12,
     "metadata": {},
     "output_type": "execute_result"
    }
   ],
   "source": [
    "df.head()"
   ]
  },
  {
   "cell_type": "code",
   "execution_count": 13,
   "metadata": {},
   "outputs": [],
   "source": [
    "df = df.merge(df_server, how=\"left\",\n",
    "              left_on=\"Artikelnummer_CRHT\",\n",
    "              right_on=\"Artikelnummer\")"
   ]
  },
  {
   "cell_type": "code",
   "execution_count": 14,
   "metadata": {},
   "outputs": [],
   "source": [
    "df = df.sort_values('dist_y', ascending=True)"
   ]
  },
  {
   "cell_type": "code",
   "execution_count": 15,
   "metadata": {},
   "outputs": [],
   "source": [
    "df.to_excel(\"Debrunner_Matching.xlsx\")"
   ]
  },
  {
   "cell_type": "code",
   "execution_count": null,
   "metadata": {},
   "outputs": [],
   "source": []
  },
  {
   "cell_type": "code",
   "execution_count": null,
   "metadata": {},
   "outputs": [],
   "source": []
  }
 ],
 "metadata": {
  "kernelspec": {
   "display_name": "Python 3",
   "language": "python",
   "name": "python3"
  },
  "language_info": {
   "codemirror_mode": {
    "name": "ipython",
    "version": 3
   },
   "file_extension": ".py",
   "mimetype": "text/x-python",
   "name": "python",
   "nbconvert_exporter": "python",
   "pygments_lexer": "ipython3",
   "version": "3.6.4"
  }
 },
 "nbformat": 4,
 "nbformat_minor": 2
}
