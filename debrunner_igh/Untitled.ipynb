{
 "cells": [
  {
   "cell_type": "code",
   "execution_count": 36,
   "metadata": {},
   "outputs": [],
   "source": [
    "import requests\n",
    "\n",
    "cookies = {\n",
    "    'cookie-dismissed': '1',\n",
    "    'sap-appcontext': 'c2FwLXNlc3Npb25pZD1TSUQlM2FBTk9OJTNhVk1FU1AxMDFfRVNQXzAwJTNhQlpvSFNLY2FLVXlMdVdVZXJ1Tjd0emd1TzdFNFh0bmtnMDB5dHUweC1BVFQ%3d',\n",
    "    'BCSIG_sap-appcontext': 'wC+xRfqeJZtQ7CXim05KlHshg7xPpHqkDtTcuJ3lnxE=',\n",
    "    'sap-usercontext': 'sap-language=D&sap-client=010',\n",
    "    'BCSIG_sap-usercontext': 'JPPXBkJvBI9BG/lwh0PNYXbXrwVu6KCKr1N5ID2xh4o=',\n",
    "}\n",
    "\n",
    "headers = {\n",
    "    'Accept-Encoding': 'gzip, deflate, br',\n",
    "    'Accept-Language': 'de-CH,de-DE;q=0.9,de;q=0.8,en-US;q=0.7,en;q=0.6',\n",
    "    'User-Agent': 'Mozilla/5.0 (Windows NT 10.0; Win64; x64) AppleWebKit/537.36 (KHTML, like Gecko) Chrome/70.0.3538.77 Safari/537.36',\n",
    "    'Accept': 'application/json, text/javascript, */*; q=0.01',\n",
    "    'Referer': 'https://shop.hgc.ch/FIS(bD1kZSZjPTAxMA==)/FISESALES/search.htm?q=',\n",
    "    'X-Requested-With': 'XMLHttpRequest',\n",
    "    'Connection': 'keep-alive',\n",
    "}\n",
    "\n",
    "params = (\n",
    "    ('handler', 'search'),\n",
    "    ('query', '*'),\n",
    "    ('rows', '50'),\n",
    "    ('start', '100000'),\n",
    "    ('sort', 'score desc'),\n",
    "    ('fuzzy', 'true'),\n",
    "    ('catalogue_id', '0029169351'),\n",
    "    ('fq', ''),\n",
    "    ('qf', ''),\n",
    "    ('_', '1542116153535'),\n",
    ")\n",
    "\n",
    "response = requests.get('https://shop.hgc.ch/FIS(bD1kZSZjPTAxMA==)/FISESALES/search_solr.ws', headers=headers, params=params, cookies=cookies)\n",
    "\n",
    "#NB. Original query string below. It seems impossible to parse and\n",
    "#reproduce query strings 100% accurately so the one below is given\n",
    "#in case the reproduced version is not \"correct\".\n",
    "# response = requests.get('https://shop.hgc.ch/FIS(bD1kZSZjPTAxMA==)/FISESALES/search_solr.ws?handler=search&query=*&rows=10&start=10&sort=score+desc&fuzzy=true&catalogue_id=0029169351&fq=&qf=&_=1542116153535', headers=headers, cookies=cookies)\n"
   ]
  },
  {
   "cell_type": "code",
   "execution_count": 40,
   "metadata": {},
   "outputs": [],
   "source": [
    "for i in response.json()['response']['docs']:\n",
    "    g = i['matnr']"
   ]
  },
  {
   "cell_type": "code",
   "execution_count": 39,
   "metadata": {},
   "outputs": [],
   "source": [
    "for i in response.json()['response']['docs']:\n",
    "    print(i)"
   ]
  },
  {
   "cell_type": "code",
   "execution_count": 41,
   "metadata": {},
   "outputs": [
    {
     "ename": "NameError",
     "evalue": "name 'g' is not defined",
     "output_type": "error",
     "traceback": [
      "\u001b[1;31m---------------------------------------------------------------------------\u001b[0m",
      "\u001b[1;31mNameError\u001b[0m                                 Traceback (most recent call last)",
      "\u001b[1;32m<ipython-input-41-a5938ace3f42>\u001b[0m in \u001b[0;36m<module>\u001b[1;34m()\u001b[0m\n\u001b[1;32m----> 1\u001b[1;33m \u001b[0mg\u001b[0m\u001b[1;33m\u001b[0m\u001b[0m\n\u001b[0m",
      "\u001b[1;31mNameError\u001b[0m: name 'g' is not defined"
     ]
    }
   ],
   "source": [
    "g"
   ]
  },
  {
   "cell_type": "code",
   "execution_count": null,
   "metadata": {},
   "outputs": [],
   "source": []
  }
 ],
 "metadata": {
  "kernelspec": {
   "display_name": "Python 3",
   "language": "python",
   "name": "python3"
  },
  "language_info": {
   "codemirror_mode": {
    "name": "ipython",
    "version": 3
   },
   "file_extension": ".py",
   "mimetype": "text/x-python",
   "name": "python",
   "nbconvert_exporter": "python",
   "pygments_lexer": "ipython3",
   "version": "3.6.4"
  }
 },
 "nbformat": 4,
 "nbformat_minor": 2
}
