{
 "cells": [
  {
   "cell_type": "code",
   "execution_count": 1,
   "metadata": {},
   "outputs": [],
   "source": [
    "import os\n",
    "import json\n",
    "\n",
    "import turbodbc\n",
    "import re\n",
    "\n",
    "import pandas as pd\n",
    "import numpy as np"
   ]
  },
  {
   "cell_type": "code",
   "execution_count": 2,
   "metadata": {},
   "outputs": [],
   "source": [
    "with open(\"reuter.json\") as f:\n",
    "    js = json.load(f)"
   ]
  },
  {
   "cell_type": "code",
   "execution_count": 3,
   "metadata": {},
   "outputs": [],
   "source": [
    "def create_connection_string_turbo(server, database):\n",
    "    options = turbodbc.make_options(prefer_unicode=True)\n",
    "    constr = 'Driver={ODBC Driver 13 for SQL Server};Server=' + \\\n",
    "        server + ';Database=' + database + ';Trusted_Connection=yes;'\n",
    "    con = turbodbc.connect(connection_string=constr, turbodbc_options=options)\n",
    "    return con"
   ]
  },
  {
   "cell_type": "code",
   "execution_count": 4,
   "metadata": {},
   "outputs": [],
   "source": [
    "def save_extract(d, key):\n",
    "    try:\n",
    "        return d[key]\n",
    "    except KeyError:\n",
    "        return None"
   ]
  },
  {
   "cell_type": "code",
   "execution_count": 5,
   "metadata": {},
   "outputs": [],
   "source": [
    "def convert_to_float(x):\n",
    "    try:\n",
    "        return float(x)\n",
    "    except ValueError:\n",
    "        return np.nan"
   ]
  },
  {
   "cell_type": "code",
   "execution_count": 6,
   "metadata": {},
   "outputs": [],
   "source": [
    "def transform_df(df):\n",
    "    df['Artikelnummer'] = df['attribute'].apply(\n",
    "        lambda x: save_extract(x, 'Artikelnummer:'))\n",
    "    df['Serie'] = df['attribute'].apply(\n",
    "        lambda x: save_extract(x, 'Serie:'))\n",
    "    \n",
    "    df['Preis'] = df['price'].replace(\n",
    "        '[^0-9.,]', '', regex=True).replace(\n",
    "        '\\,', '.', regex=True).apply(\n",
    "            lambda x: str(x)[:-1] if str(\n",
    "                x).endswith('.')  else str(x)).apply(\n",
    "        lambda x: convert_to_float(x)).astype(\"float\")\n",
    "    \n",
    "    df = df.drop(['attribute', 'price'], axis=1)\n",
    "    df.columns = ['Bezeichnung', 'Lieferant',\n",
    "                  'Artikelnummer', 'Serie', 'Preis']\n",
    "    return df"
   ]
  },
  {
   "cell_type": "code",
   "execution_count": 7,
   "metadata": {},
   "outputs": [],
   "source": [
    "def clean_id(df, colname, colname_new):\n",
    "    df[colname_new] = df[colname].str.replace(\"[^0-9a-zA-Z]|\\.\", \"\")\n",
    "    return df"
   ]
  },
  {
   "cell_type": "code",
   "execution_count": 8,
   "metadata": {},
   "outputs": [],
   "source": [
    "df = (pd.DataFrame(js)\n",
    "        .pipe(transform_df)\n",
    "        .pipe(clean_id, \"Artikelnummer\", \"Artikelnummer_clean\"))"
   ]
  },
  {
   "cell_type": "code",
   "execution_count": 9,
   "metadata": {},
   "outputs": [
    {
     "data": {
      "text/html": [
       "<div>\n",
       "<style scoped>\n",
       "    .dataframe tbody tr th:only-of-type {\n",
       "        vertical-align: middle;\n",
       "    }\n",
       "\n",
       "    .dataframe tbody tr th {\n",
       "        vertical-align: top;\n",
       "    }\n",
       "\n",
       "    .dataframe thead th {\n",
       "        text-align: right;\n",
       "    }\n",
       "</style>\n",
       "<table border=\"1\" class=\"dataframe\">\n",
       "  <thead>\n",
       "    <tr style=\"text-align: right;\">\n",
       "      <th></th>\n",
       "      <th>Bezeichnung</th>\n",
       "      <th>Lieferant</th>\n",
       "      <th>Artikelnummer</th>\n",
       "      <th>Serie</th>\n",
       "      <th>Preis</th>\n",
       "      <th>Artikelnummer_clean</th>\n",
       "    </tr>\n",
       "  </thead>\n",
       "  <tbody>\n",
       "    <tr>\n",
       "      <th>0</th>\n",
       "      <td>Grohe Minta Spültischbatterie mit herausziehba...</td>\n",
       "      <td>Grohe</td>\n",
       "      <td>30274000</td>\n",
       "      <td>Minta</td>\n",
       "      <td>171.0</td>\n",
       "      <td>30274000</td>\n",
       "    </tr>\n",
       "    <tr>\n",
       "      <th>1</th>\n",
       "      <td>Buderus Logatrend Flachheizkörper-Ventil-Kompa...</td>\n",
       "      <td>Buderus</td>\n",
       "      <td>7750200104</td>\n",
       "      <td>Logatrend</td>\n",
       "      <td>67.0</td>\n",
       "      <td>7750200104</td>\n",
       "    </tr>\n",
       "    <tr>\n",
       "      <th>2</th>\n",
       "      <td>HSK Image Badheizkörper weiß</td>\n",
       "      <td>HSK</td>\n",
       "      <td>8166172-04</td>\n",
       "      <td>Image</td>\n",
       "      <td>399.0</td>\n",
       "      <td>816617204</td>\n",
       "    </tr>\n",
       "    <tr>\n",
       "      <th>3</th>\n",
       "      <td>Kermi Casteo Ventilhahnblock-Set weiß</td>\n",
       "      <td>Kermi</td>\n",
       "      <td>ZV01200001</td>\n",
       "      <td>Casteo</td>\n",
       "      <td>67.0</td>\n",
       "      <td>ZV01200001</td>\n",
       "    </tr>\n",
       "    <tr>\n",
       "      <th>4</th>\n",
       "      <td>AEG Thermo Boden Comfort TURBO Set TBS TC 30 2...</td>\n",
       "      <td>AEG Haustechnik</td>\n",
       "      <td>234357</td>\n",
       "      <td>Thermo Boden Comfort TURBO</td>\n",
       "      <td>506.0</td>\n",
       "      <td>234357</td>\n",
       "    </tr>\n",
       "  </tbody>\n",
       "</table>\n",
       "</div>"
      ],
      "text/plain": [
       "                                         Bezeichnung        Lieferant  \\\n",
       "0  Grohe Minta Spültischbatterie mit herausziehba...            Grohe   \n",
       "1  Buderus Logatrend Flachheizkörper-Ventil-Kompa...          Buderus   \n",
       "2                       HSK Image Badheizkörper weiß              HSK   \n",
       "3              Kermi Casteo Ventilhahnblock-Set weiß            Kermi   \n",
       "4  AEG Thermo Boden Comfort TURBO Set TBS TC 30 2...  AEG Haustechnik   \n",
       "\n",
       "  Artikelnummer                       Serie  Preis Artikelnummer_clean  \n",
       "0      30274000                       Minta  171.0            30274000  \n",
       "1    7750200104                   Logatrend   67.0          7750200104  \n",
       "2    8166172-04                       Image  399.0           816617204  \n",
       "3    ZV01200001                      Casteo   67.0          ZV01200001  \n",
       "4        234357  Thermo Boden Comfort TURBO  506.0              234357  "
      ]
     },
     "execution_count": 9,
     "metadata": {},
     "output_type": "execute_result"
    }
   ],
   "source": [
    "df.head()"
   ]
  },
  {
   "cell_type": "code",
   "execution_count": 10,
   "metadata": {},
   "outputs": [],
   "source": [
    "query = \"\"\"\n",
    "set nocount on;\n",
    "\n",
    "SELECT  [Artikelnummer]\n",
    "      ,[Artikel Beschreibung]\n",
    "      ,[Lieferantenname]\n",
    "      ,[Bruttoverkauf]\n",
    "      ,[Standardkosten]\n",
    "      ,[Lieferantennummer]\n",
    "into #temp\n",
    "FROM [AnalystCM].[dbo].[LOOKUP_ArtikelstammCRHT]\n",
    "where Artikelgruppe between 5000 and 5999 and [Einmalartikel (J/N)] = 0 and [Artikel Status] = '02'\n",
    "\n",
    "select idItemOrigin\n",
    ",AvgPrice = Avg(Sales / case when Quantity = 0 then NULL else Quantity end)\n",
    ",WAvgPrice = sum(Sales) / case when sum(Quantity) = 0 then NULL else sum(Quantity) end\n",
    "into #avgprice\n",
    "from crhbusadwh01.infopool.fact.sales\n",
    "where date > dateadd(month,-12, getdate())\n",
    "group by idItemOrigin\n",
    "\n",
    "select [Artikelnummer]\n",
    "      ,[Artikel Beschreibung]\n",
    "      ,[Lieferantenname]\n",
    "      ,[Bruttoverkauf]\n",
    "      ,[Standardkosten]\n",
    "      ,[ArtikelnummerLieferant] = [Lieferantennummer]\n",
    "      ,Durchschnittspreis = AvgPrice\n",
    "      ,GDurchschnittspreis = WAvgPrice\n",
    "from #temp t\n",
    "    left join #avgprice a on t.Artikelnummer = a.idItemOrigin collate Latin1_General_CI_AS\n",
    "\n",
    "drop table #temp\n",
    "drop table #avgprice\n",
    "\"\"\""
   ]
  },
  {
   "cell_type": "code",
   "execution_count": 11,
   "metadata": {},
   "outputs": [],
   "source": [
    "con = create_connection_string_turbo(\"CRHBUSADWH51\", \"Operations\")\n",
    "df_server = pd.read_sql(query, con)\n",
    "df_server['Bruttoverkauf'] = df_server['Bruttoverkauf'].astype(\"float\")\n",
    "df_server['Standardkosten'] = df_server['Standardkosten'].astype(\"float\")"
   ]
  },
  {
   "cell_type": "code",
   "execution_count": 12,
   "metadata": {},
   "outputs": [],
   "source": [
    "df_server = df_server.pipe(clean_id,\n",
    "                           \"ArtikelnummerLieferant\",\n",
    "                           \"ArtikelnummerLieferant_clean\")"
   ]
  },
  {
   "cell_type": "code",
   "execution_count": 13,
   "metadata": {},
   "outputs": [],
   "source": [
    "df_merged = df.merge(df_server,\n",
    "                     left_on=\"Artikelnummer_clean\",\n",
    "                     right_on=\"ArtikelnummerLieferant_clean\",\n",
    "                     how=\"left\",\n",
    "                     suffixes=['_Reuter', '_CRH'])"
   ]
  },
  {
   "cell_type": "code",
   "execution_count": 14,
   "metadata": {},
   "outputs": [],
   "source": [
    "change = 1.15"
   ]
  },
  {
   "cell_type": "code",
   "execution_count": 15,
   "metadata": {},
   "outputs": [],
   "source": [
    "preis_col = 'Preis_Reuter_CHF ({})'.format(change)"
   ]
  },
  {
   "cell_type": "code",
   "execution_count": 16,
   "metadata": {},
   "outputs": [],
   "source": [
    "df_merged[preis_col] = df_merged['Preis'] * change"
   ]
  },
  {
   "cell_type": "code",
   "execution_count": 17,
   "metadata": {},
   "outputs": [],
   "source": [
    "df_merged = df_merged[['Artikelnummer_Reuter','Artikelnummer_clean', 'Lieferant',\n",
    "                       'Bezeichnung', 'Preis',preis_col,\n",
    "                       'Serie', 'Artikelnummer_CRH', 'Artikel Beschreibung',\n",
    "                       'Lieferantenname', 'Bruttoverkauf',\n",
    "                       'Standardkosten', 'Durchschnittspreis','GDurchschnittspreis']]"
   ]
  },
  {
   "cell_type": "code",
   "execution_count": 18,
   "metadata": {},
   "outputs": [],
   "source": [
    "from matplotlib import pyplot\n",
    "import seaborn as sns"
   ]
  },
  {
   "cell_type": "code",
   "execution_count": 19,
   "metadata": {},
   "outputs": [],
   "source": [
    "df_merged['Diff'] = df_merged[preis_col] - df_merged['GDurchschnittspreis']"
   ]
  },
  {
   "cell_type": "code",
   "execution_count": 20,
   "metadata": {},
   "outputs": [],
   "source": [
    "limit = 100\n",
    "df_diff = df_merged[~pd.isna(df_merged['Diff'])]\n",
    "df_diff = df_diff[(df_diff['Diff'] > -limit) & (df_diff['Diff'] < limit)]"
   ]
  },
  {
   "cell_type": "code",
   "execution_count": 21,
   "metadata": {},
   "outputs": [],
   "source": [
    "grouped = df_diff.groupby('Lieferant', as_index=False)['Diff'].median()\n",
    "grouped['Check'] = grouped['Diff'] > 0"
   ]
  },
  {
   "cell_type": "code",
   "execution_count": 22,
   "metadata": {},
   "outputs": [],
   "source": [
    "df_diff = df_diff.merge(grouped[['Lieferant', 'Check']], how=\"left\", left_on=\"Lieferant\", right_on=\"Lieferant\")"
   ]
  },
  {
   "cell_type": "code",
   "execution_count": 23,
   "metadata": {},
   "outputs": [
    {
     "data": {
      "text/html": [
       "<div>\n",
       "<style scoped>\n",
       "    .dataframe tbody tr th:only-of-type {\n",
       "        vertical-align: middle;\n",
       "    }\n",
       "\n",
       "    .dataframe tbody tr th {\n",
       "        vertical-align: top;\n",
       "    }\n",
       "\n",
       "    .dataframe thead th {\n",
       "        text-align: right;\n",
       "    }\n",
       "</style>\n",
       "<table border=\"1\" class=\"dataframe\">\n",
       "  <thead>\n",
       "    <tr style=\"text-align: right;\">\n",
       "      <th></th>\n",
       "      <th>Artikelnummer_Reuter</th>\n",
       "      <th>Artikelnummer_clean</th>\n",
       "      <th>Lieferant</th>\n",
       "      <th>Bezeichnung</th>\n",
       "      <th>Preis</th>\n",
       "      <th>Preis_Reuter_CHF (1.15)</th>\n",
       "      <th>Serie</th>\n",
       "      <th>Artikelnummer_CRH</th>\n",
       "      <th>Artikel Beschreibung</th>\n",
       "      <th>Lieferantenname</th>\n",
       "      <th>Bruttoverkauf</th>\n",
       "      <th>Standardkosten</th>\n",
       "      <th>Durchschnittspreis</th>\n",
       "      <th>GDurchschnittspreis</th>\n",
       "      <th>Diff</th>\n",
       "      <th>Check</th>\n",
       "    </tr>\n",
       "  </thead>\n",
       "  <tbody>\n",
       "    <tr>\n",
       "      <th>0</th>\n",
       "      <td>27281000</td>\n",
       "      <td>27281000</td>\n",
       "      <td>Hansgrohe</td>\n",
       "      <td>Hansgrohe Crometta E 240 1jet Showerpipe, EcoS...</td>\n",
       "      <td>267.00</td>\n",
       "      <td>307.0500</td>\n",
       "      <td>Crometta E</td>\n",
       "      <td>7003375</td>\n",
       "      <td>Duschsystem CROMETTA E 240\\1JET, EcoSmart, Dus...</td>\n",
       "      <td>Hansgrohe AG</td>\n",
       "      <td>692.0</td>\n",
       "      <td>318.86</td>\n",
       "      <td>355.750333</td>\n",
       "      <td>354.357429</td>\n",
       "      <td>-47.307429</td>\n",
       "      <td>False</td>\n",
       "    </tr>\n",
       "    <tr>\n",
       "      <th>1</th>\n",
       "      <td>115882KJ1</td>\n",
       "      <td>115882KJ1</td>\n",
       "      <td>Geberit</td>\n",
       "      <td>Geberit Sigma20 Betätigungsplatte für 2-Mengen...</td>\n",
       "      <td>42.00</td>\n",
       "      <td>48.3000</td>\n",
       "      <td>Sigma20</td>\n",
       "      <td>6944541</td>\n",
       "      <td>Abdeckplatte SIGMA20\\Zweimengenbetätigung von ...</td>\n",
       "      <td>Geberit Vertriebs AG</td>\n",
       "      <td>78.0</td>\n",
       "      <td>42.19</td>\n",
       "      <td>40.488273</td>\n",
       "      <td>40.333323</td>\n",
       "      <td>7.966677</td>\n",
       "      <td>True</td>\n",
       "    </tr>\n",
       "    <tr>\n",
       "      <th>2</th>\n",
       "      <td>115882KJ1</td>\n",
       "      <td>115882KJ1</td>\n",
       "      <td>Geberit</td>\n",
       "      <td>Geberit Sigma20 Betätigungsplatte für 2-Mengen...</td>\n",
       "      <td>42.49</td>\n",
       "      <td>48.8635</td>\n",
       "      <td>Sigma20</td>\n",
       "      <td>6944541</td>\n",
       "      <td>Abdeckplatte SIGMA20\\Zweimengenbetätigung von ...</td>\n",
       "      <td>Geberit Vertriebs AG</td>\n",
       "      <td>78.0</td>\n",
       "      <td>42.19</td>\n",
       "      <td>40.488273</td>\n",
       "      <td>40.333323</td>\n",
       "      <td>8.530177</td>\n",
       "      <td>True</td>\n",
       "    </tr>\n",
       "    <tr>\n",
       "      <th>3</th>\n",
       "      <td>5656HRR1</td>\n",
       "      <td>5656HRR1</td>\n",
       "      <td>Villeroy &amp; Boch</td>\n",
       "      <td>Villeroy &amp; Boch Avento Wand-Tiefspül-WC, Direc...</td>\n",
       "      <td>323.00</td>\n",
       "      <td>371.4500</td>\n",
       "      <td>Avento</td>\n",
       "      <td>6993293</td>\n",
       "      <td>Wandklosett AVENTO UP\\Combi-Pack, bestehend au...</td>\n",
       "      <td>Villeroy &amp; Boch AG/LSV</td>\n",
       "      <td>766.0</td>\n",
       "      <td>328.61</td>\n",
       "      <td>423.770000</td>\n",
       "      <td>423.770000</td>\n",
       "      <td>-52.320000</td>\n",
       "      <td>False</td>\n",
       "    </tr>\n",
       "    <tr>\n",
       "      <th>4</th>\n",
       "      <td>115882KN1</td>\n",
       "      <td>115882KN1</td>\n",
       "      <td>Geberit</td>\n",
       "      <td>Geberit Sigma20 Betätigungsplatte für 2-Mengen...</td>\n",
       "      <td>64.21</td>\n",
       "      <td>73.8415</td>\n",
       "      <td>Sigma20</td>\n",
       "      <td>6944543</td>\n",
       "      <td>Abdeckplatte SIGMA20\\Zweimengenbetätigung von ...</td>\n",
       "      <td>Geberit Vertriebs AG</td>\n",
       "      <td>112.0</td>\n",
       "      <td>60.48</td>\n",
       "      <td>58.402394</td>\n",
       "      <td>59.153500</td>\n",
       "      <td>14.688000</td>\n",
       "      <td>True</td>\n",
       "    </tr>\n",
       "  </tbody>\n",
       "</table>\n",
       "</div>"
      ],
      "text/plain": [
       "  Artikelnummer_Reuter Artikelnummer_clean        Lieferant  \\\n",
       "0             27281000            27281000        Hansgrohe   \n",
       "1            115882KJ1           115882KJ1          Geberit   \n",
       "2            115882KJ1           115882KJ1          Geberit   \n",
       "3             5656HRR1            5656HRR1  Villeroy & Boch   \n",
       "4            115882KN1           115882KN1          Geberit   \n",
       "\n",
       "                                         Bezeichnung   Preis  \\\n",
       "0  Hansgrohe Crometta E 240 1jet Showerpipe, EcoS...  267.00   \n",
       "1  Geberit Sigma20 Betätigungsplatte für 2-Mengen...   42.00   \n",
       "2  Geberit Sigma20 Betätigungsplatte für 2-Mengen...   42.49   \n",
       "3  Villeroy & Boch Avento Wand-Tiefspül-WC, Direc...  323.00   \n",
       "4  Geberit Sigma20 Betätigungsplatte für 2-Mengen...   64.21   \n",
       "\n",
       "   Preis_Reuter_CHF (1.15)       Serie Artikelnummer_CRH  \\\n",
       "0                 307.0500  Crometta E           7003375   \n",
       "1                  48.3000     Sigma20           6944541   \n",
       "2                  48.8635     Sigma20           6944541   \n",
       "3                 371.4500      Avento           6993293   \n",
       "4                  73.8415     Sigma20           6944543   \n",
       "\n",
       "                                Artikel Beschreibung          Lieferantenname  \\\n",
       "0  Duschsystem CROMETTA E 240\\1JET, EcoSmart, Dus...             Hansgrohe AG   \n",
       "1  Abdeckplatte SIGMA20\\Zweimengenbetätigung von ...     Geberit Vertriebs AG   \n",
       "2  Abdeckplatte SIGMA20\\Zweimengenbetätigung von ...     Geberit Vertriebs AG   \n",
       "3  Wandklosett AVENTO UP\\Combi-Pack, bestehend au...  Villeroy & Boch AG/LSV    \n",
       "4  Abdeckplatte SIGMA20\\Zweimengenbetätigung von ...     Geberit Vertriebs AG   \n",
       "\n",
       "   Bruttoverkauf  Standardkosten  Durchschnittspreis  GDurchschnittspreis  \\\n",
       "0          692.0          318.86          355.750333           354.357429   \n",
       "1           78.0           42.19           40.488273            40.333323   \n",
       "2           78.0           42.19           40.488273            40.333323   \n",
       "3          766.0          328.61          423.770000           423.770000   \n",
       "4          112.0           60.48           58.402394            59.153500   \n",
       "\n",
       "        Diff  Check  \n",
       "0 -47.307429  False  \n",
       "1   7.966677   True  \n",
       "2   8.530177   True  \n",
       "3 -52.320000  False  \n",
       "4  14.688000   True  "
      ]
     },
     "execution_count": 23,
     "metadata": {},
     "output_type": "execute_result"
    }
   ],
   "source": [
    "df_diff.head()"
   ]
  },
  {
   "cell_type": "code",
   "execution_count": 24,
   "metadata": {},
   "outputs": [],
   "source": [
    "sort_sup = df_diff.groupby('Lieferant')['Diff'].median().sort_values().index"
   ]
  },
  {
   "cell_type": "code",
   "execution_count": 25,
   "metadata": {},
   "outputs": [],
   "source": [
    "my_pal = df_diff[['Lieferant', 'Check']].copy().drop_duplicates()\n",
    "my_pal['Check'] = my_pal['Check'].map({False: \"#e67e22\", True: \"#2980b9\"})"
   ]
  },
  {
   "cell_type": "code",
   "execution_count": 26,
   "metadata": {},
   "outputs": [],
   "source": [
    "my_pal = {i[1]['Lieferant']: i[1]['Check'] for i in my_pal.iterrows()}"
   ]
  },
  {
   "cell_type": "code",
   "execution_count": 29,
   "metadata": {},
   "outputs": [
    {
     "data": {
      "image/png": "[encoded data removed]",
      "text/plain": [
       "<matplotlib.figure.Figure at 0x18f9e946a20>"
      ]
     },
     "metadata": {},
     "output_type": "display_data"
    }
   ],
   "source": [
    "a4_dims = (18, 10.27)\n",
    "fig, ax = pyplot.subplots(figsize=a4_dims)\n",
    "ax.set_xticklabels(ax.get_xticklabels(), rotation=50, ha=\"right\")\n",
    "sns.boxplot(ax=ax, x='Lieferant', y='Diff', palette=my_pal,\n",
    "            data=df_diff, order=sort_sup)\n",
    "fig.savefig(\"Preisvergleich.pdf\")"
   ]
  },
  {
   "cell_type": "code",
   "execution_count": 28,
   "metadata": {},
   "outputs": [],
   "source": [
    "df_merged.to_excel(\"reuter.xlsx\", index=False)\n",
    "df_merged[~pd.isna(df_merged['Artikelnummer_CRH'])].to_excel(\"reuter_matched.xlsx\", index=False)"
   ]
  },
  {
   "cell_type": "code",
   "execution_count": 34,
   "metadata": {},
   "outputs": [],
   "source": [
    "df_supplier_match = df_merged[(df_merged['Lieferant'].fillna('')>'') & (df_merged['Lieferantenname'].fillna('')>'')]"
   ]
  },
  {
   "cell_type": "code",
   "execution_count": 37,
   "metadata": {},
   "outputs": [],
   "source": [
    "df_supplier_match[['Lieferant', 'Lieferantenname']].drop_duplicates().to_clipboard()"
   ]
  },
  {
   "cell_type": "code",
   "execution_count": null,
   "metadata": {},
   "outputs": [],
   "source": []
  }
 ],
 "metadata": {
  "kernelspec": {
   "display_name": "Python 3",
   "language": "python",
   "name": "python3"
  },
  "language_info": {
   "codemirror_mode": {
    "name": "ipython",
    "version": 3
   },
   "file_extension": ".py",
   "mimetype": "text/x-python",
   "name": "python",
   "nbconvert_exporter": "python",
   "pygments_lexer": "ipython3",
   "version": "3.6.4"
  }
 },
 "nbformat": 4,
 "nbformat_minor": 2
}
