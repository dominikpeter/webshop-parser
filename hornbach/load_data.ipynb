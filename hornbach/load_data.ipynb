{
 "cells": [
  {
   "cell_type": "code",
   "execution_count": 1,
   "metadata": {},
   "outputs": [],
   "source": [
    "import pandas as pd\n",
    "import numpy as np\n",
    "import json\n",
    "import turbodbc"
   ]
  },
  {
   "cell_type": "code",
   "execution_count": 2,
   "metadata": {},
   "outputs": [],
   "source": [
    "def create_connection_string_turbo(server, database):\n",
    "    options = turbodbc.make_options(prefer_unicode=True)\n",
    "    constr = 'Driver={ODBC Driver 13 for SQL Server};Server=' + \\\n",
    "        server + ';Database=' + database + ';Trusted_Connection=yes;'\n",
    "    con = turbodbc.connect(connection_string=constr, turbodbc_options=options)\n",
    "    return con"
   ]
  },
  {
   "cell_type": "code",
   "execution_count": 3,
   "metadata": {},
   "outputs": [],
   "source": [
    "with open(\"products_detail.json\") as f:\n",
    "    js = json.load(f)"
   ]
  },
  {
   "cell_type": "code",
   "execution_count": 4,
   "metadata": {},
   "outputs": [],
   "source": [
    "df = pd.DataFrame(js)"
   ]
  },
  {
   "cell_type": "code",
   "execution_count": 5,
   "metadata": {},
   "outputs": [],
   "source": [
    "df['EAN'] = df.details.apply(lambda x: x['EAN'] if 'EAN' in x.keys() else np.nan)"
   ]
  },
  {
   "cell_type": "code",
   "execution_count": 6,
   "metadata": {},
   "outputs": [],
   "source": [
    "df['Gewicht pro Stück'] = df.details.apply(lambda x: x['Gewicht pro Stück'] if 'Gewicht pro Stück' in x.keys() else np.nan)"
   ]
  },
  {
   "cell_type": "code",
   "execution_count": 7,
   "metadata": {},
   "outputs": [],
   "source": [
    "df['Herstellerartikelnummer'] = df.details.apply(\n",
    "    lambda x: x['Herstellerartikelnummer'] if 'Herstellerartikelnummer' in x.keys() else np.nan)"
   ]
  },
  {
   "cell_type": "code",
   "execution_count": 8,
   "metadata": {},
   "outputs": [],
   "source": [
    "con = create_connection_string_turbo(\"CRHBUSADWH51\", \"Operations\")"
   ]
  },
  {
   "cell_type": "code",
   "execution_count": 9,
   "metadata": {},
   "outputs": [],
   "source": [
    "query = \"\"\"\n",
    "set nocount on;\n",
    "\n",
    "SELECT  [Artikelnummer]\n",
    "      ,[Artikel Beschreibung]\n",
    "      ,[Lieferantenname]\n",
    "      ,[Bruttoverkauf]\n",
    "      ,[Standardkosten]\n",
    "      ,[Lieferantennummer]\n",
    "      ,[Barcode]\n",
    "into #temp\n",
    "FROM [AnalystCM].[dbo].[LOOKUP_ArtikelstammCRHT]\n",
    "where \n",
    "--Artikelgruppe between 5000 and 5999 \n",
    "[Einmalartikel (J/N)] = 0 and [Artikel Status] = '02'\n",
    "\n",
    "select idItemOrigin\n",
    ",AvgPrice = Avg(Sales / case when Quantity = 0 then NULL else Quantity end)\n",
    ",WAvgPrice = sum(Sales) / case when sum(Quantity) = 0 then NULL else sum(Quantity) end\n",
    "into #avgprice\n",
    "from crhbusadwh01.infopool.fact.sales\n",
    "where date > dateadd(month,-12, getdate())\n",
    "group by idItemOrigin\n",
    "\n",
    "select [Artikelnummer]\n",
    "      ,[Artikel Beschreibung]\n",
    "      ,[Lieferantenname]\n",
    "      ,[Bruttoverkauf]\n",
    "      ,[Standardkosten]\n",
    "      ,EAN = Barcode\n",
    "      ,[ArtikelnummerLieferant] = [Lieferantennummer]\n",
    "      ,Durchschnittspreis = AvgPrice\n",
    "      ,GDurchschnittspreis = WAvgPrice\n",
    "from #temp t\n",
    "    left join #avgprice a on t.Artikelnummer = a.idItemOrigin collate Latin1_General_CI_AS\n",
    "\n",
    "drop table #temp\n",
    "drop table #avgprice\n",
    "\"\"\""
   ]
  },
  {
   "cell_type": "code",
   "execution_count": 10,
   "metadata": {},
   "outputs": [],
   "source": [
    "df_server = pd.read_sql(query, con)"
   ]
  },
  {
   "cell_type": "code",
   "execution_count": 11,
   "metadata": {},
   "outputs": [],
   "source": [
    "df = df.merge(df_server, how='left', left_on=\"ean\", right_on='EAN')"
   ]
  },
  {
   "cell_type": "code",
   "execution_count": 12,
   "metadata": {},
   "outputs": [],
   "source": [
    "matched_df = df[~pd.isna(df['Artikelnummer'])]"
   ]
  },
  {
   "cell_type": "code",
   "execution_count": 13,
   "metadata": {},
   "outputs": [
    {
     "data": {
      "text/plain": [
       "Index(['cat1', 'cat2', 'cat3', 'details', 'ean', 'header', 'id', 'price',\n",
       "       'EAN_x', 'Gewicht pro Stück', 'Herstellerartikelnummer',\n",
       "       'Artikelnummer', 'Artikel Beschreibung', 'Lieferantenname',\n",
       "       'Bruttoverkauf', 'Standardkosten', 'EAN_y', 'ArtikelnummerLieferant',\n",
       "       'Durchschnittspreis', 'GDurchschnittspreis'],\n",
       "      dtype='object')"
      ]
     },
     "execution_count": 13,
     "metadata": {},
     "output_type": "execute_result"
    }
   ],
   "source": [
    "matched_df.columns"
   ]
  },
  {
   "cell_type": "code",
   "execution_count": 14,
   "metadata": {},
   "outputs": [],
   "source": [
    "matched_df[['cat1', 'cat2', 'cat3', 'ean', 'header', 'id', 'price',\n",
    "            'Herstellerartikelnummer','Artikelnummer',\n",
    "            'Artikel Beschreibung', 'Lieferantenname',\n",
    "            'Bruttoverkauf', 'Standardkosten', 'ArtikelnummerLieferant',\n",
    "            'Durchschnittspreis', 'GDurchschnittspreis']].to_clipboard(index=False)"
   ]
  },
  {
   "cell_type": "code",
   "execution_count": null,
   "metadata": {},
   "outputs": [],
   "source": []
  }
 ],
 "metadata": {
  "kernelspec": {
   "display_name": "Python 3",
   "language": "python",
   "name": "python3"
  },
  "language_info": {
   "codemirror_mode": {
    "name": "ipython",
    "version": 3
   },
   "file_extension": ".py",
   "mimetype": "text/x-python",
   "name": "python",
   "nbconvert_exporter": "python",
   "pygments_lexer": "ipython3",
   "version": "3.6.4"
  }
 },
 "nbformat": 4,
 "nbformat_minor": 2
}
