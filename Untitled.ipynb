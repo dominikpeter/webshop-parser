{
 "cells": [
  {
   "cell_type": "code",
   "execution_count": 21,
   "metadata": {},
   "outputs": [],
   "source": [
    "from Deepl import Deepl"
   ]
  },
  {
   "cell_type": "code",
   "execution_count": 22,
   "metadata": {},
   "outputs": [],
   "source": [
    "deepl = Deepl.Deepl()"
   ]
  },
  {
   "cell_type": "code",
   "execution_count": 23,
   "metadata": {},
   "outputs": [
    {
     "data": {
      "text/plain": [
       "'Product XY, 50x60'"
      ]
     },
     "execution_count": 23,
     "metadata": {},
     "output_type": "execute_result"
    }
   ],
   "source": [
    "sentence = \"Produkt XY, 50x60\"\n",
    "translation = deepl.translate(sentence, \"EN\", lang=\"DE\")\n",
    "output = translation.extract_first(log_proba=False)\n",
    "output"
   ]
  },
  {
   "cell_type": "code",
   "execution_count": null,
   "metadata": {},
   "outputs": [
    {
     "name": "stdout",
     "output_type": "stream",
     "text": [
      "Number of Requests: 400\r"
     ]
    }
   ],
   "source": [
    "n_requests = int(1e+06)\n",
    "sentence = \"Produkt XY, 50x60\"\n",
    "for i, j in enumerate(range(n_requests)):\n",
    "    translation = deepl.translate(sentence, \"EN\", lang=\"DE\")\n",
    "    output = translation.extract_first(log_proba=False)\n",
    "    print(\"Number of Requests: {}\".format(i), end=\"\\r\")"
   ]
  }
 ],
 "metadata": {
  "kernelspec": {
   "display_name": "Python 3",
   "language": "python",
   "name": "python3"
  },
  "language_info": {
   "codemirror_mode": {
    "name": "ipython",
    "version": 3
   },
   "file_extension": ".py",
   "mimetype": "text/x-python",
   "name": "python",
   "nbconvert_exporter": "python",
   "pygments_lexer": "ipython3",
   "version": "3.6.4"
  }
 },
 "nbformat": 4,
 "nbformat_minor": 2
}
