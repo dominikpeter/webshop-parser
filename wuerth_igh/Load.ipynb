{
 "cells": [
  {
   "cell_type": "code",
   "execution_count": 62,
   "metadata": {},
   "outputs": [],
   "source": [
    "import Parser as xml_parser\n",
    "import numpy as np\n",
    "import pandas as pd\n",
    "import turbodbc"
   ]
  },
  {
   "cell_type": "code",
   "execution_count": 63,
   "metadata": {},
   "outputs": [],
   "source": [
    "def create_connection_string_turbo(server, database):\n",
    "    options = turbodbc.make_options(prefer_unicode=True)\n",
    "    constr = 'Driver={ODBC Driver 13 for SQL Server};Server=' + \\\n",
    "        server + ';Database=' + database + ';Trusted_Connection=yes;'\n",
    "    con = turbodbc.connect(connection_string=constr, turbodbc_options=options)\n",
    "    return con"
   ]
  },
  {
   "cell_type": "code",
   "execution_count": 64,
   "metadata": {},
   "outputs": [],
   "source": [
    "tree = xml_parser.get_tree(\"WuerthSchweiz-4327-2018-01-de.xml\")"
   ]
  },
  {
   "cell_type": "code",
   "execution_count": 65,
   "metadata": {},
   "outputs": [
    {
     "data": {
      "text/plain": [
       "<lxml.etree._ElementTree at 0x20e40ce4d48>"
      ]
     },
     "execution_count": 65,
     "metadata": {},
     "output_type": "execute_result"
    }
   ],
   "source": [
    "tree"
   ]
  },
  {
   "cell_type": "code",
   "execution_count": 66,
   "metadata": {},
   "outputs": [],
   "source": [
    "Parser = xml_parser.XML_Parser(tree)"
   ]
  },
  {
   "cell_type": "code",
   "execution_count": 67,
   "metadata": {},
   "outputs": [],
   "source": [
    "Parser.parse_xml()"
   ]
  },
  {
   "cell_type": "code",
   "execution_count": 68,
   "metadata": {},
   "outputs": [],
   "source": [
    "Parser.dict_to_df(\"id\")"
   ]
  },
  {
   "cell_type": "code",
   "execution_count": 69,
   "metadata": {},
   "outputs": [],
   "source": [
    "df = Parser.DF[['ArtikelId','Art_Nr_Hersteller_Firma', 'Art_Nr_EAN',\n",
    "           'Art_Txt_Kurz', 'Art_Txt_Lang', 'Preis']].copy()"
   ]
  },
  {
   "cell_type": "code",
   "execution_count": 70,
   "metadata": {},
   "outputs": [],
   "source": [
    "df['Preis'] = df['Preis'].astype(np.float)\n",
    "df['Art_Nr_EAN'] = df['Art_Nr_EAN'].astype(\"str\")"
   ]
  },
  {
   "cell_type": "code",
   "execution_count": 71,
   "metadata": {},
   "outputs": [
    {
     "data": {
      "text/html": [
       "<div>\n",
       "<style scoped>\n",
       "    .dataframe tbody tr th:only-of-type {\n",
       "        vertical-align: middle;\n",
       "    }\n",
       "\n",
       "    .dataframe tbody tr th {\n",
       "        vertical-align: top;\n",
       "    }\n",
       "\n",
       "    .dataframe thead th {\n",
       "        text-align: right;\n",
       "    }\n",
       "</style>\n",
       "<table border=\"1\" class=\"dataframe\">\n",
       "  <thead>\n",
       "    <tr style=\"text-align: right;\">\n",
       "      <th></th>\n",
       "      <th></th>\n",
       "      <th></th>\n",
       "      <th>ArtikelId</th>\n",
       "      <th>Art_Nr_Hersteller_Firma</th>\n",
       "      <th>Art_Nr_EAN</th>\n",
       "      <th>Art_Txt_Kurz</th>\n",
       "      <th>Art_Txt_Lang</th>\n",
       "      <th>Preis</th>\n",
       "    </tr>\n",
       "  </thead>\n",
       "  <tbody>\n",
       "    <tr>\n",
       "      <th>016017_105005__200</th>\n",
       "      <th></th>\n",
       "      <th></th>\n",
       "      <td>016017_105005__200</td>\n",
       "      <td>NaN</td>\n",
       "      <td>4011231219532</td>\n",
       "      <td>Stahl gelb verzinkt kopflochgebohrt Senkkopf Z</td>\n",
       "      <td>SHR-DBL-SEKPF-KB-Z4-(A2C)-7X105- Länge: 105.0...</td>\n",
       "      <td>55.90</td>\n",
       "    </tr>\n",
       "    <tr>\n",
       "      <th>016017_120005__200</th>\n",
       "      <th></th>\n",
       "      <th></th>\n",
       "      <td>016017_120005__200</td>\n",
       "      <td>NaN</td>\n",
       "      <td>4011231219556</td>\n",
       "      <td>Stahl gelb verzinkt kopflochgebohrt Senkkopf Z</td>\n",
       "      <td>SHR-DBL-SEKPF-KB-Z4-(A2C)-7X120- Länge: 120.0...</td>\n",
       "      <td>68.25</td>\n",
       "    </tr>\n",
       "    <tr>\n",
       "      <th>016017_140005__200</th>\n",
       "      <th></th>\n",
       "      <th></th>\n",
       "      <td>016017_140005__200</td>\n",
       "      <td>NaN</td>\n",
       "      <td>4011231219570</td>\n",
       "      <td>Stahl gelb verzinkt kopflochgebohrt Senkkopf Z</td>\n",
       "      <td>SHR-DBL-SEKPF-KB-Z4-(A2C)-7X140- Länge: 140.0...</td>\n",
       "      <td>75.80</td>\n",
       "    </tr>\n",
       "    <tr>\n",
       "      <th>016017_165005__200</th>\n",
       "      <th></th>\n",
       "      <th></th>\n",
       "      <td>016017_165005__200</td>\n",
       "      <td>NaN</td>\n",
       "      <td>4011231219594</td>\n",
       "      <td>Stahl gelb verzinkt kopflochgebohrt Senkkopf Z</td>\n",
       "      <td>SHR-DBL-SEKPF-KB-Z4-(A2C)-7X165- Länge: 165.0...</td>\n",
       "      <td>87.35</td>\n",
       "    </tr>\n",
       "    <tr>\n",
       "      <th>016017_85_005__200</th>\n",
       "      <th></th>\n",
       "      <th></th>\n",
       "      <td>016017_85_005__200</td>\n",
       "      <td>NaN</td>\n",
       "      <td>4011231219617</td>\n",
       "      <td>Stahl gelb verzinkt kopflochgebohrt Senkkopf Z</td>\n",
       "      <td>SHR-DBL-SEKPF-KB-Z4-(A2C)-7X85- Länge: 85.000 mm</td>\n",
       "      <td>50.50</td>\n",
       "    </tr>\n",
       "  </tbody>\n",
       "</table>\n",
       "</div>"
      ],
      "text/plain": [
       "                               ArtikelId  Art_Nr_Hersteller_Firma  \\\n",
       "016017_105005__200    016017_105005__200                      NaN   \n",
       "016017_120005__200    016017_120005__200                      NaN   \n",
       "016017_140005__200    016017_140005__200                      NaN   \n",
       "016017_165005__200    016017_165005__200                      NaN   \n",
       "016017_85_005__200    016017_85_005__200                      NaN   \n",
       "\n",
       "                         Art_Nr_EAN  \\\n",
       "016017_105005__200    4011231219532   \n",
       "016017_120005__200    4011231219556   \n",
       "016017_140005__200    4011231219570   \n",
       "016017_165005__200    4011231219594   \n",
       "016017_85_005__200    4011231219617   \n",
       "\n",
       "                                                        Art_Txt_Kurz  \\\n",
       "016017_105005__200    Stahl gelb verzinkt kopflochgebohrt Senkkopf Z   \n",
       "016017_120005__200    Stahl gelb verzinkt kopflochgebohrt Senkkopf Z   \n",
       "016017_140005__200    Stahl gelb verzinkt kopflochgebohrt Senkkopf Z   \n",
       "016017_165005__200    Stahl gelb verzinkt kopflochgebohrt Senkkopf Z   \n",
       "016017_85_005__200    Stahl gelb verzinkt kopflochgebohrt Senkkopf Z   \n",
       "\n",
       "                                                           Art_Txt_Lang  Preis  \n",
       "016017_105005__200     SHR-DBL-SEKPF-KB-Z4-(A2C)-7X105- Länge: 105.0...  55.90  \n",
       "016017_120005__200     SHR-DBL-SEKPF-KB-Z4-(A2C)-7X120- Länge: 120.0...  68.25  \n",
       "016017_140005__200     SHR-DBL-SEKPF-KB-Z4-(A2C)-7X140- Länge: 140.0...  75.80  \n",
       "016017_165005__200     SHR-DBL-SEKPF-KB-Z4-(A2C)-7X165- Länge: 165.0...  87.35  \n",
       "016017_85_005__200     SHR-DBL-SEKPF-KB-Z4-(A2C)-7X85- Länge: 85.000 mm  50.50  "
      ]
     },
     "execution_count": 71,
     "metadata": {},
     "output_type": "execute_result"
    }
   ],
   "source": [
    "df.head()"
   ]
  },
  {
   "cell_type": "code",
   "execution_count": 72,
   "metadata": {},
   "outputs": [],
   "source": [
    "query = \"\"\"\n",
    "set nocount on;\n",
    "\n",
    "SELECT  [Artikelnummer]\n",
    "      ,[Artikel Beschreibung]\n",
    "      ,[Lieferantenname]\n",
    "      ,[Bruttoverkauf]\n",
    "      ,[Standardkosten]\n",
    "      ,[Lieferantennummer]\n",
    "      ,EAN = Barcode\n",
    "into #temp\n",
    "FROM [AnalystCM].[dbo].[LOOKUP_ArtikelstammCRHT]\n",
    "where [Einmalartikel (J/N)] = 0 and [Artikel Status] = '02'\n",
    "\n",
    "select idItemOrigin\n",
    ",AvgPrice = Avg(Sales / case when Quantity = 0 then NULL else Quantity end)\n",
    ",WAvgPrice = sum(Sales) / case when sum(Quantity) = 0 then NULL else sum(Quantity) end\n",
    "into #avgprice\n",
    "from crhbusadwh01.infopool.fact.sales\n",
    "where date > dateadd(month,-12, getdate())\n",
    "group by idItemOrigin\n",
    "\n",
    "select [Artikelnummer]\n",
    "      ,[Artikel Beschreibung]\n",
    "      ,[Lieferantenname]\n",
    "      ,[Bruttoverkauf]\n",
    "      ,[Standardkosten]\n",
    "      ,[ArtikelnummerLieferant] = [Lieferantennummer]\n",
    "      ,EAN\n",
    "      ,Durchschnittspreis = AvgPrice\n",
    "      ,GDurchschnittspreis = WAvgPrice\n",
    "from #temp t\n",
    "    left join #avgprice a on t.Artikelnummer = a.idItemOrigin collate Latin1_General_CI_AS\n",
    "\n",
    "drop table #temp\n",
    "drop table #avgprice\n",
    "\"\"\""
   ]
  },
  {
   "cell_type": "code",
   "execution_count": 73,
   "metadata": {},
   "outputs": [],
   "source": [
    "con = create_connection_string_turbo(\"CRHBUSADWH51\", \"Operations\")\n",
    "df_server = pd.read_sql(query, con)\n",
    "df_server['Bruttoverkauf'] = df_server['Bruttoverkauf'].astype(\"float\")\n",
    "df_server['Standardkosten'] = df_server['Standardkosten'].astype(\"float\")\n",
    "df_server['EAN'] = df_server['EAN'].astype(\"str\")"
   ]
  },
  {
   "cell_type": "code",
   "execution_count": 74,
   "metadata": {},
   "outputs": [],
   "source": [
    "df = df.merge(df_server, how=\"left\", left_on=\"Art_Nr_EAN\", right_on=\"EAN\")"
   ]
  },
  {
   "cell_type": "code",
   "execution_count": 75,
   "metadata": {},
   "outputs": [],
   "source": [
    "df.to_excel(\"Würth.xlsx\", index=False)"
   ]
  },
  {
   "cell_type": "code",
   "execution_count": null,
   "metadata": {},
   "outputs": [],
   "source": []
  }
 ],
 "metadata": {
  "kernelspec": {
   "display_name": "Python 3",
   "language": "python",
   "name": "python3"
  },
  "language_info": {
   "codemirror_mode": {
    "name": "ipython",
    "version": 3
   },
   "file_extension": ".py",
   "mimetype": "text/x-python",
   "name": "python",
   "nbconvert_exporter": "python",
   "pygments_lexer": "ipython3",
   "version": "3.6.4"
  }
 },
 "nbformat": 4,
 "nbformat_minor": 2
}
