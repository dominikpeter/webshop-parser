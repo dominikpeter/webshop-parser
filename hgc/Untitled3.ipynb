{
 "cells": [
  {
   "cell_type": "code",
   "execution_count": 119,
   "metadata": {
    "collapsed": false
   },
   "outputs": [],
   "source": [
    "import requests\n",
    "from scrapy.selector import Selector\n",
    "import re\n",
    "from urllib.parse import urljoin, urlencode\n",
    "import math"
   ]
  },
  {
   "cell_type": "code",
   "execution_count": 98,
   "metadata": {
    "collapsed": true
   },
   "outputs": [],
   "source": [
    "ses = requests.Session()"
   ]
  },
  {
   "cell_type": "code",
   "execution_count": 99,
   "metadata": {
    "collapsed": false
   },
   "outputs": [
    {
     "data": {
      "text/plain": [
       "'https://shop.hgc.ch/FIS(bD1lbiZjPTAxMA==)/FISESALES/dashboard.htm?sap-language=D'"
      ]
     },
     "execution_count": 99,
     "metadata": {},
     "output_type": "execute_result"
    }
   ],
   "source": [
    "resp = ses.get(\"https://shop.hgc.ch\")\n",
    "resp.url"
   ]
  },
  {
   "cell_type": "code",
   "execution_count": 100,
   "metadata": {
    "collapsed": false
   },
   "outputs": [
    {
     "data": {
      "text/plain": [
       "{'BCSIG_sap-appcontext': 'QOlrciN/dwarI7jhHdhmlzqlHyOpow6vNC8pFdYKd0w=',\n",
       " 'BCSIG_sap-usercontext': 'JPPXBkJvBI9BG/lwh0PNYXbXrwVu6KCKr1N5ID2xh4o=',\n",
       " 'sap-appcontext': 'c2FwLXNlc3Npb25pZD1TSUQlM2FBTk9OJTNhVk1FU1AxMDFfRVNQXzAwJTNhQlpvSGFrd2tlSzBrcld2M2RXc2plMlZQcVBnNFh0bE5fMDFjWGZGLS1BVFQ%3d',\n",
       " 'sap-usercontext': 'sap-language=D&sap-client=010'}"
      ]
     },
     "execution_count": 100,
     "metadata": {},
     "output_type": "execute_result"
    }
   ],
   "source": [
    "ses.cookies.get_dict()"
   ]
  },
  {
   "cell_type": "code",
   "execution_count": 101,
   "metadata": {
    "collapsed": true
   },
   "outputs": [],
   "source": [
    "p = {\"handler\": \"getusercatalogues\",\n",
    "     \"lang\": \"D\",\n",
    "     \"getusercatalogues\": \"true\"}"
   ]
  },
  {
   "cell_type": "code",
   "execution_count": 102,
   "metadata": {
    "collapsed": false
   },
   "outputs": [
    {
     "data": {
      "text/plain": [
       "'https://shop.hgc.ch/FIS(bD1lbiZjPTAxMA==)/FISESALES/search_solr.ws?'"
      ]
     },
     "execution_count": 102,
     "metadata": {},
     "output_type": "execute_result"
    }
   ],
   "source": [
    "re.sub(\"dashboard.*\",\"search_solr.ws?\", resp.url)"
   ]
  },
  {
   "cell_type": "code",
   "execution_count": 103,
   "metadata": {
    "collapsed": true
   },
   "outputs": [],
   "source": [
    "url = re.sub(\"dashboard.*\",\"search_solr.ws?\", resp.url)\n",
    "resp = ses.get(url + urlencode(p), headers={'Content-Type':'application/json'})"
   ]
  },
  {
   "cell_type": "code",
   "execution_count": 104,
   "metadata": {
    "collapsed": false
   },
   "outputs": [
    {
     "data": {
      "text/plain": [
       "'0029272644'"
      ]
     },
     "execution_count": 104,
     "metadata": {},
     "output_type": "execute_result"
    }
   ],
   "source": [
    "resp.json()['catalogues'][0]['id']"
   ]
  },
  {
   "cell_type": "code",
   "execution_count": 105,
   "metadata": {
    "collapsed": false
   },
   "outputs": [],
   "source": [
    "p = {\"handler\": \"search\",\n",
    "\"query\": \"*\",\n",
    "\"rows\": \"50\",\n",
    "\"start\": \"50\",\n",
    "\"sort\": \"score desc\",\n",
    "\"fuzzy\": \"true\",\n",
    "\"catalogue_id\": \"0029272644\",\n",
    "\"_\" :\"1542482889377\"\n",
    "    }"
   ]
  },
  {
   "cell_type": "code",
   "execution_count": 107,
   "metadata": {
    "collapsed": false
   },
   "outputs": [],
   "source": [
    "resp = ses.get(url + urlencode(p), headers={'Content-Type':'application/json'})"
   ]
  },
  {
   "cell_type": "code",
   "execution_count": 109,
   "metadata": {
    "collapsed": false
   },
   "outputs": [],
   "source": [
    "js = resp.json()"
   ]
  },
  {
   "cell_type": "code",
   "execution_count": 114,
   "metadata": {
    "collapsed": false
   },
   "outputs": [],
   "source": [
    "n = js['response']['numFound']"
   ]
  },
  {
   "cell_type": "code",
   "execution_count": 120,
   "metadata": {
    "collapsed": false
   },
   "outputs": [],
   "source": [
    "pages = math.ceil(n / 50)"
   ]
  },
  {
   "cell_type": "code",
   "execution_count": 118,
   "metadata": {
    "collapsed": false
   },
   "outputs": [
    {
     "data": {
      "text/plain": [
       "608.76"
      ]
     },
     "execution_count": 118,
     "metadata": {},
     "output_type": "execute_result"
    }
   ],
   "source": [
    "pages"
   ]
  },
  {
   "cell_type": "code",
   "execution_count": null,
   "metadata": {
    "collapsed": true
   },
   "outputs": [],
   "source": [
    "https://shop.hgc.ch/FIS(bD1lbiZjPTAxMA==)/FISESALES/search_solr.ws?event=GET_DETAILS&pitcher=search.htm&receiver=> "
   ]
  },
  {
   "cell_type": "code",
   "execution_count": null,
   "metadata": {
    "collapsed": true
   },
   "outputs": [],
   "source": [
    "b"
   ]
  },
  {
   "cell_type": "code",
   "execution_count": 131,
   "metadata": {
    "collapsed": true
   },
   "outputs": [],
   "source": [
    "import requests\n",
    "\n",
    "cookies = {\n",
    "    'sap-appcontext': 'c2FwLXNlc3Npb25pZD1TSUQlM2FBTk9OJTNhVk1FU1AxMDFfRVNQXzAwJTNhQlpvSFdVNkVvbWd3anRxNHVmbHlCN3hUaXZzNFh0bHl4RTB5ZWlrWi1BVFQ%3d',\n",
    "    'BCSIG_sap-appcontext': 'otZ+ryUN4pepWAtp6wXlR7cOYFl2q2zYttlE3XlOioM=',\n",
    "    'cookie-dismissed': '1',\n",
    "    'sap-usercontext': 'sap-language=D&sap-client=010',\n",
    "    'BCSIG_sap-usercontext': 'JPPXBkJvBI9BG/lwh0PNYXbXrwVu6KCKr1N5ID2xh4o=',\n",
    "}\n",
    "\n",
    "headers = {\n",
    "    'Origin': 'https://shop.hgc.ch',\n",
    "    'Content-Type': 'application/x-www-form-urlencoded; charset=UTF-8',\n",
    "    'Accept': 'application/json, text/javascript, */*; q=0.01',\n",
    "    'X-Requested-With': 'XMLHttpRequest',\n",
    "    'Connection': 'keep-alive',\n",
    "}\n",
    "\n",
    "params = (\n",
    "    ('event', 'GET_DETAILS'),\n",
    "    ('pitcher', 'search.htm'),\n",
    "    ('receiver', ''),\n",
    ")\n",
    "\n",
    "data = {\n",
    "  'matnr': '000000000100005277'\n",
    "}\n",
    "\n",
    "response = requests.post('https://shop.hgc.ch/FIS(bD1lbiZjPTAxMA==)/FISESALES/details.ws', headers=headers, params=params, cookies=cookies, data=data)\n",
    "\n",
    "#NB. Original query string below. It seems impossible to parse and\n",
    "#reproduce query strings 100% accurately so the one below is given\n",
    "#in case the reproduced version is not \"correct\".\n",
    "# response = requests.post('https://shop.hgc.ch/FIS(bD1lbiZjPTAxMA==)/FISESALES/details.ws?event=GET_DETAILS&pitcher=search.htm&receiver=', headers=headers, cookies=cookies, data=data)\n"
   ]
  },
  {
   "cell_type": "code",
   "execution_count": 132,
   "metadata": {
    "collapsed": false
   },
   "outputs": [
    {
     "data": {
      "text/plain": [
       "{'event': 'GET_DETAILS',\n",
       " 'message': '',\n",
       " 'no_oltp': '',\n",
       " 'output': {'additional_infos': [],\n",
       "  'additional_material': {},\n",
       "  'basis_me': 'ST',\n",
       "  'basket_count': 0,\n",
       "  'beschreibung': '',\n",
       "  'bismt': '100005277',\n",
       "  'brgew': '10.800 ',\n",
       "  'bstme': '',\n",
       "  'buildup_lnk': '',\n",
       "  'catalogue_path': [{'catalogue_id': '0029272644',\n",
       "    'catalogue_name': '',\n",
       "    'category_id': '',\n",
       "    'category_index': '000254',\n",
       "    'category_name': 'Bausteine, Stürze, Fensterbänke',\n",
       "    'hierarchy_level': 1},\n",
       "   {'catalogue_id': '0029272644',\n",
       "    'catalogue_name': '',\n",
       "    'category_id': '',\n",
       "    'category_index': '000257',\n",
       "    'category_name': 'Backsteine',\n",
       "    'hierarchy_level': 2},\n",
       "   {'catalogue_id': '0029272644',\n",
       "    'catalogue_name': '',\n",
       "    'category_id': '',\n",
       "    'category_index': '000262',\n",
       "    'category_name': 'Modulsteine ME mit Verzahnung',\n",
       "    'hierarchy_level': 3}],\n",
       "  'classification': [],\n",
       "  'conversion_factors': [{'meinh': 'PAL',\n",
       "    'meins': 'ST',\n",
       "    'menge_h': '1',\n",
       "    'menge_s': '96'},\n",
       "   {'meinh': 'TS', 'meins': 'ST', 'menge_h': '1', 'menge_s': '1,000'}],\n",
       "  'descriptions': '',\n",
       "  'docId': '',\n",
       "  'docPos': '',\n",
       "  'docType': '',\n",
       "  'eek': {'is_detail_classes_on': '', 'is_detail_labels_on': '', 'items': []},\n",
       "  'factory_numbers': [],\n",
       "  'gewei': 'KG',\n",
       "  'kbetr': '0.000',\n",
       "  'kdmatnr': '',\n",
       "  'maktx': 'Backstein, B 20.0x19x30cm',\n",
       "  'maktx2': 'ME',\n",
       "  'matnr': '000000000100005277',\n",
       "  'meins': 'ST',\n",
       "  'meins_changeable': 'TS',\n",
       "  'menge': '1.000',\n",
       "  'ntgew': '10.800 ',\n",
       "  'pictures': [],\n",
       "  'pimdata': [{'pim_einh': '', 'pim_label': 'Typ', 'pim_wert': 'B 20.0 ME'},\n",
       "   {'pim_einh': 'mm', 'pim_label': 'Länge', 'pim_wert': '30'},\n",
       "   {'pim_einh': 'mm', 'pim_label': 'Breite', 'pim_wert': '20'},\n",
       "   {'pim_einh': 'mm', 'pim_label': 'Höhe', 'pim_wert': '19'},\n",
       "   {'pim_einh': 'kg/Stk.', 'pim_label': 'Gewicht', 'pim_wert': '10.8'},\n",
       "   {'pim_einh': 'mm', 'pim_label': 'Format', 'pim_wert': '20.0/19/30'},\n",
       "   {'pim_einh': 'Stk./m²', 'pim_label': 'Bedarf', 'pim_wert': '16.7'}],\n",
       "  'price_gross': {'kbetr': \"3'441.00\",\n",
       "   'kmein': 'TS',\n",
       "   'kpein': '1',\n",
       "   'peinh': 'CHF'},\n",
       "  'price_net': {'kbetr': '', 'kmein': 'TS', 'kpein': '1', 'peinh': 'CHF'},\n",
       "  'scale_prices_gross': [],\n",
       "  'scale_prices_net': [],\n",
       "  'source': 'img/no_pic.png',\n",
       "  'verwend': 'A',\n",
       "  'video_link': '',\n",
       "  'video_link_name': 'Mehr Informationen'},\n",
       " 'status': 'OK'}"
      ]
     },
     "execution_count": 132,
     "metadata": {},
     "output_type": "execute_result"
    }
   ],
   "source": [
    "response.json()"
   ]
  },
  {
   "cell_type": "code",
   "execution_count": null,
   "metadata": {
    "collapsed": true
   },
   "outputs": [],
   "source": []
  }
 ],
 "metadata": {
  "kernelspec": {
   "display_name": "Python 3",
   "language": "python",
   "name": "python3"
  },
  "language_info": {
   "codemirror_mode": {
    "name": "ipython",
    "version": 3
   },
   "file_extension": ".py",
   "mimetype": "text/x-python",
   "name": "python",
   "nbconvert_exporter": "python",
   "pygments_lexer": "ipython3",
   "version": "3.6.6"
  }
 },
 "nbformat": 4,
 "nbformat_minor": 2
}
