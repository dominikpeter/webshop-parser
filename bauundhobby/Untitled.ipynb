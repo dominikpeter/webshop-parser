{
 "cells": [
  {
   "cell_type": "code",
   "execution_count": 138,
   "metadata": {
    "collapsed": false
   },
   "outputs": [],
   "source": [
    "import requests\n",
    "\n",
    "cookies = {\n",
    "    'BuHLBcookie': '!OwiQ1MuA1AyP5aW5oAGZafU4zcpWK67EC5NdSaU3tEnIyit5eVpr2trVf7Z4X4sQDvgmBpSj+x6T1P3QoM6i3um26IrPIF/jNRhPaHHOrnsp',\n",
    "    'BuHLBAEMcookie': '!mIjZRbTZ9f6wzvC5oAGZafU4zcpWK9aza2FBwTead4mueu8tVj/IE2z62vDVfrWoS0cTu/8bg4a2/nCHSSBF3A2GXczITq/rGvi+sYrv0vI=',\n",
    "    'utag_main': 'v_id:016721f5150d000d2b1efaf389f10307300da06b009dc$_sn:1$_ss:1$_st:1542464769108$ses_id:1542462969108%3Bexp-session$_pn:1%3Bexp-session',\n",
    "    'disturberBadge': 'hidden',\n",
    "    '__atuvc': '1%7C46',\n",
    "    'JSESSIONID': 'C75DAA8FBF9A09EC7E4BB0063B28BB00',\n",
    "    'TS01251063': '0188e1aa7f83df24d3ed2d00540a486f18e40539c0ec24c2de2615e616404112a12877655a94f30be5d520872efc8aced78c659b425af34a82353476cb8718d78c63f3abd9755865d9fe4c4a7aecd1cfaf0f8fd3e70a941a44720730f9453936407f5c6e3c',\n",
    "}\n",
    "\n",
    "headers = {\n",
    "    'Accept-Encoding': 'gzip, deflate, br',\n",
    "    'Accept-Language': 'de-CH,de-DE;q=0.9,de;q=0.8,en-US;q=0.7,en;q=0.6',\n",
    "    'User-Agent': 'Mozilla/5.0 (Windows NT 10.0; Win64; x64) AppleWebKit/537.36 (KHTML, like Gecko) Chrome/70.0.3538.102 Safari/537.36',\n",
    "    'Accept': '*/*',\n",
    "    'Referer': 'https://www.bauundhobby.ch/bad-sanit%C3%A4r/brausen-armaturen/mischd%C3%BCsen/c/050702',\n",
    "    'X-Requested-With': 'XMLHttpRequest',\n",
    "    'Connection': 'keep-alive',\n",
    "}\n",
    "\n",
    "params = (\n",
    "    ('sort', 'relevance'),\n",
    "    ('page', '0'),\n",
    "    ('pageSize', '32'),\n",
    "    ('originalSearchQuery', '050702'),\n",
    "    ('currentPage', '1'),\n",
    "    ('searchType', 'CATEGORY'),\n",
    "    ('allowedFilter', ''),\n",
    "    ('category', '050702'),\n",
    "    ('_', '1542530636165'),\n",
    ")\n",
    "\n",
    "response = requests.get('https://www.bauundhobby.ch/productlandingResultSearch/paging', headers=headers, params=params, cookies=cookies)\n",
    "\n"
   ]
  },
  {
   "cell_type": "code",
   "execution_count": 139,
   "metadata": {
    "collapsed": true
   },
   "outputs": [],
   "source": [
    "from scrapy import Selector"
   ]
  },
  {
   "cell_type": "code",
   "execution_count": 140,
   "metadata": {
    "collapsed": false
   },
   "outputs": [],
   "source": [
    "selector = Selector(text=response.json()['listerHTML'])"
   ]
  },
  {
   "cell_type": "code",
   "execution_count": 141,
   "metadata": {
    "collapsed": false
   },
   "outputs": [],
   "source": [
    "numberOfPages = response.json()['pagination']['numberOfPages']"
   ]
  },
  {
   "cell_type": "code",
   "execution_count": 142,
   "metadata": {
    "collapsed": false
   },
   "outputs": [],
   "source": [
    "pageSize = response.json()['pagination']['pageSize']"
   ]
  },
  {
   "cell_type": "code",
   "execution_count": 143,
   "metadata": {
    "collapsed": false
   },
   "outputs": [],
   "source": [
    "totalNumberOfResults = response.json()['pagination']['totalNumberOfResults']"
   ]
  },
  {
   "cell_type": "code",
   "execution_count": 144,
   "metadata": {
    "collapsed": false
   },
   "outputs": [
    {
     "data": {
      "text/plain": [
       "46"
      ]
     },
     "execution_count": 144,
     "metadata": {},
     "output_type": "execute_result"
    }
   ],
   "source": [
    "totalNumberOfResults // numberOfPages + 1"
   ]
  },
  {
   "cell_type": "code",
   "execution_count": 148,
   "metadata": {
    "collapsed": true
   },
   "outputs": [],
   "source": [
    "t = \"https://www.jumbo.ch/de/bad-sanitaer\"\n",
    "t2 = \"https://www.jumbo.ch/de/bodenbelaege-wandverkleidungen-farben\"\n"
   ]
  },
  {
   "cell_type": "code",
   "execution_count": 146,
   "metadata": {
    "collapsed": true
   },
   "outputs": [],
   "source": [
    "import re\n"
   ]
  },
  {
   "cell_type": "code",
   "execution_count": null,
   "metadata": {
    "collapsed": true
   },
   "outputs": [],
   "source": [
    "re.match(r\"de/(bad-sanitaer|bodenbelaege-wandverkleidungen-farben)\")"
   ]
  },
  {
   "cell_type": "code",
   "execution_count": 149,
   "metadata": {
    "collapsed": false
   },
   "outputs": [
    {
     "data": {
      "text/plain": [
       "['de/bad-sanitaer']"
      ]
     },
     "execution_count": 149,
     "metadata": {},
     "output_type": "execute_result"
    }
   ],
   "source": [
    "re.findall(r\"(de/bad-sanitaer|de/bodenbelaege-wandverkleidungen-farben)\", t)"
   ]
  },
  {
   "cell_type": "code",
   "execution_count": 126,
   "metadata": {
    "collapsed": false
   },
   "outputs": [],
   "source": [
    "l = selector.xpath(\"//*[contains(@class, 'product-tile__link')]/@href\").extract()"
   ]
  },
  {
   "cell_type": "code",
   "execution_count": 127,
   "metadata": {
    "collapsed": false
   },
   "outputs": [
    {
     "data": {
      "text/plain": [
       "28"
      ]
     },
     "execution_count": 127,
     "metadata": {},
     "output_type": "execute_result"
    }
   ],
   "source": [
    "len(l)"
   ]
  },
  {
   "cell_type": "code",
   "execution_count": 128,
   "metadata": {
    "collapsed": false
   },
   "outputs": [
    {
     "data": {
      "text/plain": [
       "['/bad-sanitaer/brausen-armaturen/mischduesen/mischduese-cascade-chrom-m24/p/4375210',\n",
       " '/bad-sanitaer/brausen-armaturen/mischduesen/mischduese-cascade-m28/p/4377359',\n",
       " '/bad-sanitaer/brausen-armaturen/mischduesen/mischduese-verchrchromt-m24x1/p/3221978',\n",
       " '/bad-sanitaer/brausen-armaturen/mischduesen/innenteil-cascade-m22m24/p/4375218',\n",
       " '/bad-sanitaer/brausen-armaturen/mischduesen/mischduese-honeycomb-tj-m185/p/4375395',\n",
       " '/bad-sanitaer/brausen-armaturen/mischduesen/reduktion-messing-chrom-m24x34/p/4375616',\n",
       " '/bad-sanitaer/brausen-armaturen/mischduesen/schluessel-kunststoff-m22-m24-m28/p/4375425',\n",
       " '/bad-sanitaer/brausen-armaturen/mischduesen/wassersparer-fuer-duschbrause/p/4484446',\n",
       " '/bad-sanitaer/brausen-armaturen/mischduesen/bubble-stream-sprudler-chrom-m24/p/4374951',\n",
       " '/bad-sanitaer/brausen-armaturen/mischduesen/oecoplan-mischduese-chrom-m22/p/4274326',\n",
       " '/bad-sanitaer/brausen-armaturen/mischduesen/qualiteprix-kuechenbrause-messing-kugelgelenk/p/4073946',\n",
       " '/bad-sanitaer/brausen-armaturen/mischduesen/bubble-stream-einsatz-m22m24/p/4374956',\n",
       " '/bad-sanitaer/brausen-armaturen/mischduesen/led-strahlregler-7-farben/p/4297659',\n",
       " '/bad-sanitaer/brausen-armaturen/mischduesen/mischduese-cascade-chrom-m22/p/4375014',\n",
       " '/bad-sanitaer/brausen-armaturen/mischduesen/mischduese-cascade-m24/p/4375219',\n",
       " '/bad-sanitaer/brausen-armaturen/mischduesen/mischduese-mit-kugelgelenk-m22-12-38-chrom/p/3221977',\n",
       " '/bad-sanitaer/brausen-armaturen/mischduesen/oecoplan-hanhschlauch-brause-m2224/p/4368828',\n",
       " '/bad-sanitaer/brausen-armaturen/mischduesen/oecoplan-wassersparer-duschschlauch/p/4274325',\n",
       " '/bad-sanitaer/brausen-armaturen/mischduesen/oecoplan-wassersparset-m2224/p/4368796',\n",
       " '/bad-sanitaer/brausen-armaturen/mischduesen/oecoplan-wassersparset-messing/p/4441974',\n",
       " '/bad-sanitaer/brausen-armaturen/mischduesen/oecoplan-wc-wasserstop/p/4368827',\n",
       " '/bad-sanitaer/brausen-armaturen/mischduesen/reduktion-chrom/p/4375591',\n",
       " '/bad-sanitaer/brausen-armaturen/mischduesen/reduktion-chrom-m22/p/4375611',\n",
       " '/bad-sanitaer/brausen-armaturen/mischduesen/reduktion-messing-chrom-m22x12/p/4375610',\n",
       " '/bad-sanitaer/brausen-armaturen/mischduesen/reduktion-messing-m22x12x34/p/4375640',\n",
       " '/bad-sanitaer/brausen-armaturen/mischduesen/bubble-stream-brause-m22m24/p/4375011',\n",
       " '/bad-sanitaer/brausen-armaturen/mischduesen/bubble-stream-sprudler-chrom-m22/p/4374949',\n",
       " '/bad-sanitaer/brausen-armaturen/mischduesen/bubble-stream-sprudler-m22m24/p/4375009']"
      ]
     },
     "execution_count": 128,
     "metadata": {},
     "output_type": "execute_result"
    }
   ],
   "source": [
    "l"
   ]
  },
  {
   "cell_type": "code",
   "execution_count": null,
   "metadata": {
    "collapsed": true
   },
   "outputs": [],
   "source": []
  },
  {
   "cell_type": "code",
   "execution_count": null,
   "metadata": {
    "collapsed": true
   },
   "outputs": [],
   "source": []
  }
 ],
 "metadata": {
  "kernelspec": {
   "display_name": "Python 3",
   "language": "python",
   "name": "python3"
  },
  "language_info": {
   "codemirror_mode": {
    "name": "ipython",
    "version": 3
   },
   "file_extension": ".py",
   "mimetype": "text/x-python",
   "name": "python",
   "nbconvert_exporter": "python",
   "pygments_lexer": "ipython3",
   "version": "3.6.6"
  }
 },
 "nbformat": 4,
 "nbformat_minor": 2
}
