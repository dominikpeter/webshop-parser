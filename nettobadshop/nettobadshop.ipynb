{
 "cells": [
  {
   "cell_type": "code",
   "execution_count": 1,
   "metadata": {},
   "outputs": [],
   "source": [
    "import os\n",
    "import json\n",
    "\n",
    "import turbodbc\n",
    "\n",
    "import pandas as pd\n",
    "import numpy as np"
   ]
  },
  {
   "cell_type": "code",
   "execution_count": 2,
   "metadata": {},
   "outputs": [],
   "source": [
    "with open(\"nettobadshop.json\") as f:\n",
    "    js = json.load(f)"
   ]
  },
  {
   "cell_type": "code",
   "execution_count": 6,
   "metadata": {},
   "outputs": [],
   "source": [
    "def create_connection_string_turbo(server, database):\n",
    "    options = turbodbc.make_options(prefer_unicode=True)\n",
    "    constr = 'Driver={ODBC Driver 13 for SQL Server};Server=' + \\\n",
    "        server + ';Database=' + database + ';Trusted_Connection=yes;'\n",
    "    con = turbodbc.connect(connection_string=constr, turbodbc_options=options)\n",
    "    return con"
   ]
  },
  {
   "cell_type": "code",
   "execution_count": 19,
   "metadata": {},
   "outputs": [],
   "source": [
    "def save_to_float(x):\n",
    "    try:\n",
    "        return float(x)\n",
    "    except TypeError:\n",
    "        return np.nan"
   ]
  },
  {
   "cell_type": "code",
   "execution_count": 20,
   "metadata": {},
   "outputs": [],
   "source": [
    "def transform_df(df):\n",
    "    df[\"price\"] = df[\"price\"].apply(lambda x: save_to_float(x)).astype(float)\n",
    "    df.columns = ['Kategorie', 'Bezeichnung', 'Artikelnummer', 'Preis', 'Lieferant']\n",
    "    return df"
   ]
  },
  {
   "cell_type": "code",
   "execution_count": 21,
   "metadata": {},
   "outputs": [],
   "source": [
    "df = pd.DataFrame(js).pipe(transform_df)"
   ]
  },
  {
   "cell_type": "code",
   "execution_count": 22,
   "metadata": {},
   "outputs": [
    {
     "data": {
      "text/html": [
       "<div>\n",
       "<style scoped>\n",
       "    .dataframe tbody tr th:only-of-type {\n",
       "        vertical-align: middle;\n",
       "    }\n",
       "\n",
       "    .dataframe tbody tr th {\n",
       "        vertical-align: top;\n",
       "    }\n",
       "\n",
       "    .dataframe thead th {\n",
       "        text-align: right;\n",
       "    }\n",
       "</style>\n",
       "<table border=\"1\" class=\"dataframe\">\n",
       "  <thead>\n",
       "    <tr style=\"text-align: right;\">\n",
       "      <th></th>\n",
       "      <th>Kategorie</th>\n",
       "      <th>Bezeichnung</th>\n",
       "      <th>Artikelnummer</th>\n",
       "      <th>Preis</th>\n",
       "      <th>Lieferant</th>\n",
       "    </tr>\n",
       "  </thead>\n",
       "  <tbody>\n",
       "    <tr>\n",
       "      <th>0</th>\n",
       "      <td>Einbaukosten</td>\n",
       "      <td>Einbaukosten Zwei- und Dreilocharmatur</td>\n",
       "      <td>6000015</td>\n",
       "      <td>51.50</td>\n",
       "      <td>None</td>\n",
       "    </tr>\n",
       "    <tr>\n",
       "      <th>1</th>\n",
       "      <td>Duravit</td>\n",
       "      <td>Auflegewaschtisch Philippe Starck 1 D. 53 cm</td>\n",
       "      <td>2147146</td>\n",
       "      <td>767.86</td>\n",
       "      <td>None</td>\n",
       "    </tr>\n",
       "    <tr>\n",
       "      <th>2</th>\n",
       "      <td>Schulwandbrunnen und Reihenwaschtische</td>\n",
       "      <td>Waschtisch Romay Varello Breite  360 cm, Höhe ...</td>\n",
       "      <td>7412175</td>\n",
       "      <td>4213.26</td>\n",
       "      <td>None</td>\n",
       "    </tr>\n",
       "    <tr>\n",
       "      <th>3</th>\n",
       "      <td>Waschraummöbel</td>\n",
       "      <td>Waschtrog-Unterbau zu Waschraumlösung, Breite ...</td>\n",
       "      <td>7338502</td>\n",
       "      <td>1278.44</td>\n",
       "      <td>Romay</td>\n",
       "    </tr>\n",
       "    <tr>\n",
       "      <th>4</th>\n",
       "      <td>Duravit</td>\n",
       "      <td>Einbauwaschtisch Philippe Starck 3, 49 x 36 cm...</td>\n",
       "      <td>2147536</td>\n",
       "      <td>408.86</td>\n",
       "      <td>None</td>\n",
       "    </tr>\n",
       "  </tbody>\n",
       "</table>\n",
       "</div>"
      ],
      "text/plain": [
       "                                Kategorie  \\\n",
       "0                            Einbaukosten   \n",
       "1                                 Duravit   \n",
       "2  Schulwandbrunnen und Reihenwaschtische   \n",
       "3                          Waschraummöbel   \n",
       "4                                 Duravit   \n",
       "\n",
       "                                         Bezeichnung Artikelnummer    Preis  \\\n",
       "0             Einbaukosten Zwei- und Dreilocharmatur       6000015    51.50   \n",
       "1       Auflegewaschtisch Philippe Starck 1 D. 53 cm       2147146   767.86   \n",
       "2  Waschtisch Romay Varello Breite  360 cm, Höhe ...       7412175  4213.26   \n",
       "3  Waschtrog-Unterbau zu Waschraumlösung, Breite ...       7338502  1278.44   \n",
       "4  Einbauwaschtisch Philippe Starck 3, 49 x 36 cm...       2147536   408.86   \n",
       "\n",
       "  Lieferant  \n",
       "0      None  \n",
       "1      None  \n",
       "2      None  \n",
       "3     Romay  \n",
       "4      None  "
      ]
     },
     "execution_count": 22,
     "metadata": {},
     "output_type": "execute_result"
    }
   ],
   "source": [
    "df.head()"
   ]
  },
  {
   "cell_type": "code",
   "execution_count": 27,
   "metadata": {},
   "outputs": [],
   "source": [
    "df['Bezeichnung'].to_clipboard()"
   ]
  },
  {
   "cell_type": "code",
   "execution_count": 23,
   "metadata": {},
   "outputs": [],
   "source": [
    "query = \"\"\"\n",
    "set nocount on;\n",
    "\n",
    "SELECT  [Artikelnummer]\n",
    "      ,[Artikel Beschreibung]\n",
    "\t  ,[Lieferantenname]\n",
    "      ,[Bruttoverkauf]\n",
    "      ,[Standardkosten]\n",
    "      ,[Lieferantennummer]\n",
    "into #temp\n",
    "FROM [AnalystCM].[dbo].[LOOKUP_ArtikelstammCRHT]\n",
    "where Artikelgruppe between 5000 and 5999 and [Einmalartikel (J/N)] = 0 and [Artikel Status] = '02'\n",
    "\n",
    "select idItemOrigin\n",
    ",AvgPrice = Avg(Sales / case when Quantity = 0 then NULL else Quantity end)\n",
    ",WAvgPrice = sum(Sales) / case when sum(Quantity) = 0 then NULL else sum(Quantity) end\n",
    "into #avgprice\n",
    "from crhbusadwh01.infopool.fact.sales\n",
    "where date > dateadd(month,-12, getdate())\n",
    "group by idItemOrigin\n",
    "\n",
    "select [Artikelnummer]\n",
    "      ,[Artikel Beschreibung]\n",
    "\t  ,[Lieferantenname]\n",
    "      ,[Bruttoverkauf]\n",
    "      ,[Standardkosten]\n",
    "      ,[ArtikelnummerLieferant] = [Lieferantennummer]\n",
    "\t  ,Durchschnittspreis = AvgPrice\n",
    "\t  ,GDurchschnittspreis = WAvgPrice\n",
    "from #temp t\n",
    "\tleft join #avgprice a on t.Artikelnummer = a.idItemOrigin collate Latin1_General_CI_AS\n",
    "\n",
    "\n",
    "drop table #temp\n",
    "drop table #avgprice\n",
    "\"\"\""
   ]
  },
  {
   "cell_type": "code",
   "execution_count": 24,
   "metadata": {},
   "outputs": [],
   "source": [
    "con = create_connection_string_turbo(\"CRHBUSADWH51\", \"Operations\")\n",
    "df_server = pd.read_sql(query, con)\n",
    "df_server['Bruttoverkauf'] = df_server['Bruttoverkauf'].astype(\"float\")\n",
    "df_server['Standardkosten'] = df_server['Standardkosten'].astype(\"float\")"
   ]
  },
  {
   "cell_type": "raw",
   "metadata": {},
   "source": [
    "df_merged = df.merge(df_server,\n",
    "                     left_on=\"Artikelnummer_clean\",\n",
    "                     right_on=\"ArtikelnummerLieferant_clean\",\n",
    "                     how=\"left\",\n",
    "                     suffixes=['_Reuter', '_CRH'])"
   ]
  },
  {
   "cell_type": "raw",
   "metadata": {},
   "source": [
    "df_merged = df_merged[['Artikelnummer_Reuter','Artikelnummer_clean', 'Lieferant',\n",
    "                       'Beschreibung', 'Preis','Preis_Reuter_CHF',\n",
    "                       'Serie', 'Artikelnummer_CRH', 'Artikel Beschreibung',\n",
    "                       'Lieferantenname', 'Bruttoverkauf',\n",
    "                       'Standardkosten', 'Durchschnittspreis','GDurchschnittspreis']]"
   ]
  },
  {
   "cell_type": "raw",
   "metadata": {},
   "source": [
    "df_merged.head()"
   ]
  },
  {
   "cell_type": "raw",
   "metadata": {},
   "source": [
    "df_merged.to_excel(\"reuter.xlsx\", index=False)"
   ]
  },
  {
   "cell_type": "code",
   "execution_count": null,
   "metadata": {},
   "outputs": [],
   "source": []
  },
  {
   "cell_type": "code",
   "execution_count": null,
   "metadata": {},
   "outputs": [],
   "source": []
  },
  {
   "cell_type": "code",
   "execution_count": null,
   "metadata": {},
   "outputs": [],
   "source": []
  },
  {
   "cell_type": "code",
   "execution_count": null,
   "metadata": {},
   "outputs": [],
   "source": []
  },
  {
   "cell_type": "code",
   "execution_count": null,
   "metadata": {},
   "outputs": [],
   "source": []
  },
  {
   "cell_type": "code",
   "execution_count": null,
   "metadata": {},
   "outputs": [],
   "source": []
  }
 ],
 "metadata": {
  "kernelspec": {
   "display_name": "Python 3",
   "language": "python",
   "name": "python3"
  },
  "language_info": {
   "codemirror_mode": {
    "name": "ipython",
    "version": 3
   },
   "file_extension": ".py",
   "mimetype": "text/x-python",
   "name": "python",
   "nbconvert_exporter": "python",
   "pygments_lexer": "ipython3",
   "version": "3.6.4"
  }
 },
 "nbformat": 4,
 "nbformat_minor": 2
}
